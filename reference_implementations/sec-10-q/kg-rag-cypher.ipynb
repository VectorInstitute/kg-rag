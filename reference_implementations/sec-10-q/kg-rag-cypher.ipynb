{
 "cells": [
  {
   "cell_type": "markdown",
   "metadata": {},
   "source": [
    "# SEC 10-Q Knowledge Graph Construction\n",
    "\n",
    "This notebook demonstrates constructing a knowledge graph from SEC 10-Q filings using LangChain. The approach uses LLM-based extraction to identify entities and relationships without pre-defining a schema."
   ]
  },
  {
   "cell_type": "code",
   "execution_count": 13,
   "metadata": {},
   "outputs": [],
   "source": [
    "import os\n",
    "from pathlib import Path\n",
    "from dotenv import load_dotenv\n",
    "import neo4j\n",
    "from langchain_experimental.graph_transformers import LLMGraphTransformer\n",
    "from langchain_openai import ChatOpenAI\n",
    "from langchain_core.documents import Document\n",
    "import networkx as nx\n",
    "import matplotlib.pyplot as plt\n",
    "from tqdm.notebook import tqdm\n",
    "from dotenv import load_dotenv\n",
    "\n",
    "# Load environment variables\n",
    "load_dotenv()\n",
    "\n",
    "# Neo4j connection settings\n",
    "NEO4J_URI = os.getenv('NEO4J_URI', 'bolt://localhost:7687')\n",
    "NEO4J_USER = os.getenv('NEO4J_USER', 'neo4j')\n",
    "NEO4J_PASSWORD = os.getenv('NEO4J_PASSWORD', 'password')\n",
    "\n",
    "# Initialize OpenAI client\n",
    "llm = ChatOpenAI(temperature=0, \n",
    "                 model_name=\"gpt-4o\", \n",
    "                 openai_api_key=os.environ['OPENAI_API_KEY'])\n",
    "llm_transformer = LLMGraphTransformer(llm=llm)"
   ]
  },
  {
   "cell_type": "code",
   "execution_count": null,
   "metadata": {},
   "outputs": [],
   "source": [
    "!docker run --name neo4j  -p7474:7474 -p7687:7687     -e NEO4J_AUTH=neo4j/password     -e NEO4J_PLUGINS='[\"apoc\", \"graph-data-science\"]'"
   ]
  },
  {
   "cell_type": "code",
   "execution_count": 2,
   "metadata": {},
   "outputs": [],
   "source": [
    "from langchain_community.document_loaders.pdf import PyPDFLoader\n",
    "\n",
    "file_path = \"../../data/sec-10-q/docs/2022 Q3 AAPL.pdf\"\n",
    "raw_documents = PyPDFLoader(file_path=file_path).load()\n",
    "\n",
    "from langchain_text_splitters import TokenTextSplitter\n",
    "\n",
    "text_splitter = TokenTextSplitter(chunk_size=512, chunk_overlap=24)\n",
    "\n",
    "documents = text_splitter.split_documents(raw_documents)\n",
    "\n",
    "from langchain.vectorstores.utils import filter_complex_metadata\n",
    "documents = filter_complex_metadata(documents)"
   ]
  },
  {
   "cell_type": "code",
   "execution_count": null,
   "metadata": {},
   "outputs": [],
   "source": [
    "import os\n",
    "from langchain_community.document_loaders.pdf import PyPDFLoader\n",
    "from langchain_text_splitters import TokenTextSplitter\n",
    "from langchain.vectorstores.utils import filter_complex_metadata\n",
    "\n",
    "# Initialize empty list to store all documents\n",
    "documents = []\n",
    "\n",
    "# Get the docs directory path\n",
    "docs_path = \"../../data/sec-10-q/docs\"\n",
    "\n",
    "# Loop through all files in the docs directory\n",
    "for filename in os.listdir(docs_path):\n",
    "    # Check if the file is an AAPL PDF\n",
    "    if filename.endswith(\"AAPL.pdf\"):\n",
    "        # Construct full file path\n",
    "        file_path = os.path.join(docs_path, filename)\n",
    "        \n",
    "        # Load and process the PDF\n",
    "        try:\n",
    "            raw_documents = PyPDFLoader(file_path=file_path).load()\n",
    "            \n",
    "            # Split the documents\n",
    "            text_splitter = TokenTextSplitter(chunk_size=512, chunk_overlap=24)\n",
    "            split_documents = text_splitter.split_documents(raw_documents)\n",
    "            \n",
    "            # Filter metadata\n",
    "            processed_documents = filter_complex_metadata(split_documents)\n",
    "            \n",
    "            # Append to our collection\n",
    "            documents.extend(processed_documents)\n",
    "            \n",
    "            print(f\"Processed: {filename}\")\n",
    "        except Exception as e:\n",
    "            print(f\"Error processing {filename}: {str(e)}\")\n",
    "\n",
    "# Now all_documents contains the processed documents from all AAPL PDFs\n",
    "print(f\"Total documents processed: {len(documents)}\")"
   ]
  },
  {
   "cell_type": "code",
   "execution_count": null,
   "metadata": {},
   "outputs": [],
   "source": [
    "graph_documents = llm_transformer.convert_to_graph_documents(tqdm(documents))"
   ]
  },
  {
   "cell_type": "code",
   "execution_count": 3,
   "metadata": {},
   "outputs": [],
   "source": [
    "# Load graph_documents\n",
    "import pickle\n",
    "\n",
    "with open(\"graph_documents_appl.pkl\", \"rb\") as f:\n",
    "    graph_documents = pickle.load(f)"
   ]
  },
  {
   "cell_type": "code",
   "execution_count": 80,
   "metadata": {},
   "outputs": [],
   "source": [
    "# save graph_documents\n",
    "import pickle\n",
    "\n",
    "with open(\"graph_documents_appl.pkl\", \"wb\") as f:\n",
    "    pickle.dump(graph_documents, f)"
   ]
  },
  {
   "cell_type": "code",
   "execution_count": null,
   "metadata": {},
   "outputs": [],
   "source": [
    "# Connect to Neo4j and store the graph\n",
    "from langchain_neo4j import Neo4jGraph\n",
    "\n",
    "graph = Neo4jGraph(\n",
    "    url=NEO4J_URI,\n",
    "    username=NEO4J_USER,\n",
    "    password=NEO4J_PASSWORD\n",
    ")\n",
    "\n",
    "# Clear existing data\n",
    "graph.query(\"MATCH (n) DETACH DELETE n\")\n",
    "\n",
    "graph.add_graph_documents(\n",
    "    tqdm(graph_documents),\n",
    "    baseEntityLabel=True,\n",
    "    include_source=True\n",
    ")"
   ]
  },
  {
   "cell_type": "markdown",
   "metadata": {},
   "source": [
    "The knowledge graph has been constructed and stored in Neo4j. You can now query it using Cypher or use it for downstream tasks like question answering."
   ]
  },
  {
   "cell_type": "code",
   "execution_count": 6,
   "metadata": {},
   "outputs": [],
   "source": [
    "from langchain_core.prompts import PromptTemplate\n",
    "# from langchain_neo4j.chains.graph_qa.prompts import CYPHER_GENERATION_PROMPT, CYPHER_QA_PROMPT\n",
    "\n",
    "CYPHER_GENERATION_TEMPLATE = \"\"\"\n",
    "Task:\n",
    "Generate Cypher statement to query a graph database.\n",
    "Instructions:\n",
    "Use only the provided relationship types and properties in the schema.\n",
    "Do not use any other relationship types or properties that are not provided.\n",
    "If you cannot generate a Cypher statement based on the provided schema, explain the reason to the user.\n",
    "When you use `MATCH` with `WHERE` clauses, always first check the entities' or relationships; id property rather than name.\n",
    "Schema:\n",
    "{schema}\n",
    "IMPORTANT:\n",
    "Do not include any explanations or apologies in your response.\n",
    "Do not respond to any questions that might ask anything else than for you to construct a Cypher statement.\n",
    "Do not include any text except the generated Cypher statement.\n",
    "Examples:\n",
    "Here are a few examples of generated Cypher statements for particular questions:\n",
    "# Example 1: What entities relates to Nvidia Corporation?\n",
    "MATCH p=()-[]->(n:Company)-[]->()\n",
    "where n.id = \"Nvidia Corporation\"\n",
    "RETURN P LIMIT 50\n",
    "# Example 2: What assets do Nvidia Corporation have?\n",
    "MATCH p=(n:Company)-[r:HAS]->()\n",
    "where n.id = \"Nvidia Corporation\"\n",
    "RETURN P LIMIT 25\n",
    "The question is:\n",
    "{question}\n",
    "\"\"\"\n",
    "CYPHER_GENERATION_PROMPT = PromptTemplate(\n",
    "    input_variables=['schema', 'question'],\n",
    "    template=CYPHER_GENERATION_TEMPLATE,\n",
    ")"
   ]
  },
  {
   "cell_type": "code",
   "execution_count": null,
   "metadata": {},
   "outputs": [],
   "source": [
    "print('Node properties:\\nOrganization {id: STRING}\\nDocument {id: STRING, source: STRING, page: INTEGER, text: STRING}\\nLocation {id: STRING}\\nFinancial instrument {id: STRING}\\nEntity {id: STRING}\\nRegulation {id: STRING}\\nDate {id: STRING}\\nFinancial metric {id: STRING}\\nProduct {id: STRING}\\nTime period {id: STRING}\\nPercentage {id: STRING}\\nRisk {id: STRING}\\nFinancial asset {id: STRING}\\nProgram {id: STRING}\\nCurrency {id: STRING}\\nFinancial_instrument {id: STRING}\\nEvent {id: STRING}\\nConcept {id: STRING}\\nRegion {id: STRING}\\nYear {id: STRING}\\nLaw {id: STRING}\\nAmount {id: STRING}\\nPerson {id: STRING}\\nPosition {id: STRING}\\nIdentifier {id: STRING}\\nContact {id: STRING}\\nClassification {id: STRING}\\nDocument_section {id: STRING}\\nFinancial_metric {id: STRING}\\nFinancial_concept {id: STRING}\\nService {id: STRING}\\nTime_period {id: STRING}\\nFinancial statement item {id: STRING}\\nFinancial_term {id: STRING}\\nLegal_term {id: STRING}\\nWebsite {id: STRING}\\nPage number {id: STRING}\\nFinancial market {id: STRING}\\nFinancial obligation {id: STRING}\\nFinancial program {id: STRING}\\nLegal_concept {id: STRING}\\nAuthorization {id: STRING}\\nRole {id: STRING}\\nRelationship properties:\\n\\nThe relationships:\\n(:Organization)-[:APPEALED_DECISION_IN]->(:Organization)\\n(:Organization)-[:FILED_LAWSUIT_AGAINST]->(:Organization)\\n(:Organization)-[:FILED_LAWSUIT_IN]->(:Organization)\\n(:Organization)-[:RULED_AGAINST]->(:Organization)\\n(:Organization)-[:FOUND_VIOLATION_OF]->(:Legal_concept)\\n(:Organization)-[:RULED_IN_FAVOR_OF]->(:Organization)\\n(:Organization)-[:INCORPORATED_IN]->(:Location)\\n(:Organization)-[:FILED_WITH]->(:Organization)\\n(:Organization)-[:HAS_IDENTIFIER]->(:Identifier)\\n(:Organization)-[:INTRODUCED]->(:Product)\\n(:Organization)-[:HAS_ADDRESS]->(:Location)\\n(:Organization)-[:ANNOUNCED]->(:Product)\\n(:Organization)-[:HAS_CONTACT]->(:Contact)\\n(:Organization)-[:FILED]->(:Document)\\n(:Organization)-[:REPORTS]->(:Financial statement item)\\n(:Organization)-[:REPORTS]->(:Concept)\\n(:Organization)-[:REPORT_DATE]->(:Date)\\n(:Organization)-[:PUBLISHED]->(:Document)\\n(:Organization)-[:FINANCIAL_STATEMENT_DATE]->(:Date)\\n(:Organization)-[:POTENTIAL_FUTURE_IMPACT]->(:Event)\\n(:Organization)-[:REFERENCE]->(:Document)\\n(:Organization)-[:PROVIDES_INFORMATION_ON]->(:Website)\\n(:Organization)-[:REPORTED]->(:Concept)\\n(:Organization)-[:REPORTED]->(:Financial_metric)\\n(:Organization)-[:REPORTED]->(:Financial_concept)\\n(:Organization)-[:REPORTED]->(:Financial metric)\\n(:Organization)-[:AUTHOR_OF]->(:Document)\\n(:Organization)-[:HAS]->(:Financial_concept)\\n(:Organization)-[:HAS]->(:Financial_metric)\\n(:Organization)-[:HAS]->(:Concept)\\n(:Organization)-[:EVALUATION_DATE]->(:Date)\\n(:Organization)-[:DOCUMENTED_IN]->(:Document)\\n(:Organization)-[:UTILIZED]->(:Authorization)\\n(:Organization)-[:CONFORMITY]->(:Concept)\\n(:Organization)-[:COMPLIANCE]->(:Regulation)\\n(:Organization)-[:COMPLIANCE]->(:Law)\\n(:Organization)-[:HAS_DOCUMENT]->(:Document)\\n(:Organization)-[:AUTHORIZED]->(:Program)\\n(:Organization)-[:AUTHORIZED]->(:Financial program)\\n(:Organization)-[:DOCUMENT_OF]->(:Document)\\n(:Organization)-[:AUTHORIZED_PURCHASE]->(:Date)\\n(:Organization)-[:CLASSIFIED_AS]->(:Classification)\\n(:Organization)-[:ELECTED_NOT_TO_USE_EXTENDED_TRANSITION_PERIOD]->(:Entity)\\n(:Organization)-[:IS_NOT]->(:Entity)\\n(:Organization)-[:SUBJECT_TO]->(:Regulation)\\n(:Organization)-[:REFERENCED_IN]->(:Document)\\n(:Organization)-[:HAS_NON-TRADE_RECEIVABLES_FROM]->(:Organization)\\n(:Organization)-[:SELLS_TO_VENDORS]->(:Product)\\n(:Organization)-[:MANAGES_ON_GEOGRAPHIC_BASIS]->(:Region)\\n(:Organization)-[:DISCUSSED_IN]->(:Document)\\n(:Organization)-[:FILED_COUNTERCLAIM_AGAINST]->(:Organization)\\n(:Organization)-[:OPERATES]->(:Product)\\n(:Organization)-[:FILED_CROSS-APPEAL_IN]->(:Organization)\\n(:Organization)-[:DATE_OF_FINANCIAL_DATA]->(:Date)\\n(:Organization)-[:ACCOUNTED_FOR_42%_OF_TRADE_RECEIVABLES]->(:Date)\\n(:Organization)-[:ACCOUNTED_FOR_36%_OF_TRADE_RECEIVABLES]->(:Date)\\n(:Organization)-[:SUFFICIENT_TO_SATISFY_REQUIREMENTS]->(:Financial asset)\\n(:Organization)-[:SUFFICIENT_TO_SATISFY_REQUIREMENTS]->(:Financial instrument)\\n(:Organization)-[:SUFFICIENT_TO_SATISFY_REQUIREMENTS]->(:Time period)\\n(:Organization)-[:HIGHER_EFFECTIVE_TAX_RATE]->(:Time period)\\n(:Organization)-[:CONTINUED_ACCESS]->(:Financial market)\\n(:Organization)-[:UTILIZES_OUTSOURCING_PARTNERS]->(:Financial obligation)\\n(:Organization)-[:HAD_OBLIGATIONS]->(:Date)\\n(:Organization)-[:QUARTERLY_CASH_DIVIDEND]->(:Amount)\\n(:Organization)-[:AUTHORIZED_BY]->(:Program)\\n(:Organization)-[:AUTHORIZED_BY]->(:Financial program)\\n(:Organization)-[:COMPARED_TO]->(:Time period)\\n(:Organization)-[:ISSUED_REGULATIONS]->(:Time period)\\n(:Document)-[:MENTIONS]->(:Regulation)\\n(:Document)-[:MENTIONS]->(:Law)\\n(:Document)-[:MENTIONS]->(:Date)\\n(:Document)-[:MENTIONS]->(:Document)\\n(:Document)-[:MENTIONS]->(:Organization)\\n(:Document)-[:MENTIONS]->(:Product)\\n(:Document)-[:MENTIONS]->(:Legal_concept)\\n(:Document)-[:MENTIONS]->(:Amount)\\n(:Document)-[:MENTIONS]->(:Authorization)\\n(:Document)-[:MENTIONS]->(:Identifier)\\n(:Document)-[:MENTIONS]->(:Financial_instrument)\\n(:Document)-[:MENTIONS]->(:Location)\\n(:Document)-[:MENTIONS]->(:Contact)\\n(:Document)-[:MENTIONS]->(:Entity)\\n(:Document)-[:MENTIONS]->(:Classification)\\n(:Document)-[:MENTIONS]->(:Document_section)\\n(:Document)-[:MENTIONS]->(:Financial_metric)\\n(:Document)-[:MENTIONS]->(:Financial metric)\\n(:Document)-[:MENTIONS]->(:Concept)\\n(:Document)-[:MENTIONS]->(:Financial_concept)\\n(:Document)-[:MENTIONS]->(:Service)\\n(:Document)-[:MENTIONS]->(:Region)\\n(:Document)-[:MENTIONS]->(:Time_period)\\n(:Document)-[:MENTIONS]->(:Percentage)\\n(:Document)-[:MENTIONS]->(:Financial instrument)\\n(:Document)-[:MENTIONS]->(:Financial asset)\\n(:Document)-[:MENTIONS]->(:Risk)\\n(:Document)-[:MENTIONS]->(:Financial statement item)\\n(:Document)-[:MENTIONS]->(:Program)\\n(:Document)-[:MENTIONS]->(:Financial program)\\n(:Document)-[:MENTIONS]->(:Event)\\n(:Document)-[:MENTIONS]->(:Financial_term)\\n(:Document)-[:MENTIONS]->(:Legal_term)\\n(:Document)-[:MENTIONS]->(:Website)\\n(:Document)-[:MENTIONS]->(:Time period)\\n(:Document)-[:MENTIONS]->(:Year)\\n(:Document)-[:MENTIONS]->(:Person)\\n(:Document)-[:MENTIONS]->(:Position)\\n(:Document)-[:MENTIONS]->(:Role)\\n(:Document)-[:MENTIONS]->(:Currency)\\n(:Document)-[:MENTIONS]->(:Page number)\\n(:Document)-[:MENTIONS]->(:Financial obligation)\\n(:Document)-[:MENTIONS]->(:Financial market)\\n(:Document)-[:CONTAINS]->(:Document_section)\\n(:Document)-[:CONTAINS]->(:Page number)\\n(:Document)-[:REPORT_OF]->(:Organization)\\n(:Document)-[:FILED_WITH]->(:Organization)\\n(:Document)-[:BELONGS_TO]->(:Organization)\\n(:Document)-[:COMPLIES_WITH]->(:Regulation)\\n(:Document)-[:COMPLIES_WITH]->(:Law)\\n(:Location)-[:UNFAVORABLE_IMPACT]->(:Currency)\\n(:Location)-[:UNFAVORABLE_IMPACT]->(:Concept)\\n(:Location)-[:FAVORABLE_IMPACT]->(:Currency)\\n(:Location)-[:HAS_VALUE]->(:Financial_metric)\\n(:Location)-[:LOWER_NET_SALES]->(:Product)\\n(:Location)-[:HIGHER_NET_SALES]->(:Product)\\n(:Location)-[:HIGHER_NET_SALES]->(:Concept)\\n(:Location)-[:HIGHER_NET_SALES]->(:Service)\\n(:Financial instrument)-[:DATE]->(:Date)\\n(:Financial instrument)-[:ISSUED_BY]->(:Organization)\\n(:Entity)-[:CLASSIFIED_AS]->(:Classification)\\n(:Entity)-[:ELECTED_NOT_TO_USE_EXTENDED_TRANSITION_PERIOD]->(:Entity)\\n(:Entity)-[:IS_NOT]->(:Entity)\\n(:Entity)-[:SUBJECT_TO]->(:Regulation)\\n(:Entity)-[:ISSUED_AND_OUTSTANDING_ON]->(:Date)\\n(:Entity)-[:AUTHORIZED]->(:Program)\\n(:Entity)-[:AUTHORIZED]->(:Financial program)\\n(:Entity)-[:PART_OF]->(:Organization)\\n(:Entity)-[:PART_OF]->(:Entity)\\n(:Date)-[:BEGINNING_CASH_BALANCE]->(:Amount)\\n(:Date)-[:NET_INCOME]->(:Amount)\\n(:Date)-[:DEPRECIATION_AMORTIZATION]->(:Amount)\\n(:Date)-[:SHARE_BASED_COMPENSATION]->(:Amount)\\n(:Date)-[:DEFERRED_INCOME_TAX]->(:Amount)\\n(:Date)-[:OTHER_ADJUSTMENTS]->(:Amount)\\n(:Date)-[:ACCOUNTS_RECEIVABLE_CHANGE]->(:Amount)\\n(:Date)-[:INVENTORIES_CHANGE]->(:Amount)\\n(:Date)-[:VENDOR_NON_TRADE_RECEIVABLES_CHANGE]->(:Amount)\\n(:Date)-[:OTHER_ASSETS_CHANGE]->(:Amount)\\n(:Date)-[:ACCOUNTS_PAYABLE_CHANGE]->(:Amount)\\n(:Date)-[:DEFERRED_REVENUE_CHANGE]->(:Amount)\\n(:Date)-[:OTHER_LIABILITIES_CHANGE]->(:Amount)\\n(:Date)-[:CASH_GENERATED_OPERATING_ACTIVITIES]->(:Amount)\\n(:Date)-[:PURCHASES_MARKETABLE_SECURITIES]->(:Amount)\\n(:Date)-[:PROCEEDS_MATURITIES_MARKETABLE_SECURITIES]->(:Amount)\\n(:Date)-[:PROCEEDS_SALES_MARKETABLE_SECURITIES]->(:Amount)\\n(:Date)-[:PAYMENTS_ACQUISITION_PROPERTY]->(:Amount)\\n(:Date)-[:PAYMENTS_BUSINESS_ACQUISITIONS]->(:Amount)\\n(:Date)-[:OTHER_INVESTING_ACTIVITIES]->(:Amount)\\n(:Date)-[:CASH_USED_INVESTING_ACTIVITIES]->(:Amount)\\n(:Date)-[:PAYMENTS_TAXES_EQUITY_AWARDS]->(:Amount)\\n(:Date)-[:PAYMENTS_DIVIDENDS]->(:Amount)\\n(:Date)-[:REPURCHASES_COMMON_STOCK]->(:Amount)\\n(:Date)-[:REPAYMENTS_TERM_DEBT]->(:Amount)\\n(:Date)-[:PROCEEDS_COMMERCIAL_PAPER]->(:Amount)\\n(:Date)-[:PROCEEDS_ISSUANCE_TERM_DEBT]->(:Amount)\\n(:Product)-[:CATEGORY]->(:Financial_metric)\\n(:Product)-[:COMPARISON_YEAR]->(:Date)\\n(:Product)-[:COMPARISON_YEAR]->(:Time period)\\n(:Product)-[:COMPARISON_YEAR]->(:Year)\\n(:Product)-[:NET_SALES_INCREASED]->(:Date)\\n(:Product)-[:NET_SALES_INCREASED]->(:Year)\\n(:Product)-[:NET_SALES_INCREASED]->(:Time period)\\n(:Product)-[:HIGHER_PROPORTION_OF_SALES]->(:Location)\\n(:Product)-[:HIGHER_PROPORTION_OF_SALES]->(:Region)\\n(:Product)-[:CONTRIBUTES_TO]->(:Financial_metric)\\n(:Product)-[:NET_SALES_DECREASED]->(:Time period)\\n(:Product)-[:OFFSET_BY]->(:Concept)\\n(:Product)-[:INCREASED]->(:Financial metric)\\n(:Product)-[:INCREASED]->(:Financial_metric)\\n(:Product)-[:COMPARED_TO]->(:Time_period)\\n(:Product)-[:DUE_TO_HIGHER_NET_SALES_FROM]->(:Concept)\\n(:Product)-[:INCREASED_DURING]->(:Time_period)\\n(:Product)-[:LOWER_NET_SALES]->(:Product)\\n(:Product)-[:POWERED_BY]->(:Product)\\n(:Product)-[:HIGHER_NET_SALES]->(:Product)\\n(:Product)-[:DECREASED]->(:Financial metric)\\n(:Product)-[:DECREASED]->(:Financial_metric)\\n(:Percentage)-[:TIME_FRAME]->(:Time_period)\\n(:Risk)-[:EXPOSED_TO]->(:Organization)\\n(:Financial asset)-[:DATE]->(:Date)\\n(:Program)-[:AUTHORIZED_BY]->(:Organization)\\n(:Program)-[:AUTHORIZED_BY]->(:Entity)\\n(:Financial_instrument)-[:REGISTERED_ON]->(:Organization)\\n(:Financial_instrument)-[:ISSUED_BY]->(:Organization)\\n(:Financial_instrument)-[:DATE]->(:Date)\\n(:Financial_instrument)-[:OWNED_BY]->(:Organization)\\n(:Financial_instrument)-[:USED_BY]->(:Organization)\\n(:Financial_instrument)-[:VALUE_14,250_MILLION]->(:Date)\\n(:Financial_instrument)-[:VALUE_15,954_MILLION]->(:Date)\\n(:Financial_instrument)-[:VALUE_(19,281)_MILLION]->(:Date)\\n(:Financial_instrument)-[:VALUE_(17,857)_MILLION]->(:Date)\\n(:Financial_instrument)-[:HELD_BY]->(:Organization)\\n(:Financial_instrument)-[:COMPONENT_OF]->(:Financial_instrument)\\n(:Event)-[:IMPACT]->(:Organization)\\n(:Concept)-[:INCLUDES]->(:Concept)\\n(:Concept)-[:INCLUDES]->(:Financial_metric)\\n(:Concept)-[:INCLUDES]->(:Financial_concept)\\n(:Concept)-[:INCLUDES]->(:Financial instrument)\\n(:Concept)-[:INCLUDES]->(:Financial_instrument)\\n(:Concept)-[:COMPONENT_OF]->(:Financial_concept)\\n(:Concept)-[:DATE]->(:Date)\\n(:Concept)-[:OFFSET_BY]->(:Concept)\\n(:Concept)-[:CONTRIBUTES_TO]->(:Financial_metric)\\n(:Concept)-[:CATEGORY]->(:Financial_metric)\\n(:Concept)-[:INCREASED]->(:Financial metric)\\n(:Concept)-[:INCREASED]->(:Financial_metric)\\n(:Concept)-[:COMPARED_TO]->(:Time_period)\\n(:Concept)-[:COMPARED_TO]->(:Date)\\n(:Concept)-[:COMPARED_TO]->(:Time period)\\n(:Concept)-[:COMPARED_TO]->(:Year)\\n(:Concept)-[:DUE_TO_HIGHER_NET_SALES_FROM]->(:Concept)\\n(:Concept)-[:INCREASED_DURING]->(:Time_period)\\n(:Concept)-[:INCREASED_DURING]->(:Time period)\\n(:Concept)-[:ISSUED_BY]->(:Organization)\\n(:Concept)-[:VALUE_126,918_MILLION]->(:Date)\\n(:Concept)-[:VALUE_76,234_MILLION]->(:Date)\\n(:Concept)-[:VALUE_76,475_MILLION]->(:Date)\\n(:Concept)-[:VALUE_84,506_MILLION]->(:Date)\\n(:Concept)-[:VALUE_16,875_MILLION]->(:Date)\\n(:Concept)-[:VALUE_20,775_MILLION]->(:Date)\\n(:Concept)-[:ACTIVITY]->(:Event)\\n(:Concept)-[:EXPENSE]->(:Date)\\n(:Concept)-[:COST]->(:Date)\\n(:Concept)-[:RELATED_TO]->(:Organization)\\n(:Concept)-[:AFFECTS]->(:Concept)\\n(:Concept)-[:INVOLVES]->(:Entity)\\n(:Concept)-[:INVOLVES]->(:Concept)\\n(:Concept)-[:RELATIVE_TO]->(:Currency)\\n(:Concept)-[:RELATIVE_TO]->(:Concept)\\n(:Concept)-[:DECREASED]->(:Date)\\n(:Concept)-[:DECREASED]->(:Year)\\n(:Region)-[:UNFAVORABLE_IMPACT]->(:Currency)\\n(:Region)-[:UNFAVORABLE_IMPACT]->(:Concept)\\n(:Region)-[:FAVORABLE_IMPACT]->(:Currency)\\n(:Region)-[:HAS_VALUE]->(:Financial_metric)\\n(:Region)-[:LOWER_NET_SALES]->(:Product)\\n(:Region)-[:HIGHER_NET_SALES]->(:Product)\\n(:Region)-[:HIGHER_NET_SALES]->(:Concept)\\n(:Region)-[:HIGHER_NET_SALES]->(:Service)\\n(:Region)-[:INCREASED_NET_SALES]->(:Product)\\n(:Region)-[:INCREASED_NET_SALES]->(:Concept)\\n(:Region)-[:INCREASED_NET_SALES]->(:Service)\\n(:Person)-[:HAS]->(:Concept)\\n(:Person)-[:CERTIFY]->(:Document)\\n(:Person)-[:REVIEWED]->(:Document)\\n(:Person)-[:HOLDS_POSITION]->(:Role)\\n(:Person)-[:SIGNED_ON]->(:Date)\\n(:Person)-[:CERTIFYING_OFFICER]->(:Organization)\\n(:Person)-[:CERTIFYING_OFFICER]->(:Entity)\\n(:Person)-[:AFFILIATION]->(:Organization)\\n(:Person)-[:HOLDS]->(:Position)\\n(:Person)-[:DISCLOSED_TO]->(:Entity)\\n(:Person)-[:DISCLOSED_TO]->(:Organization)\\n(:Classification)-[:DEFINED_IN]->(:Regulation)\\n(:Financial_metric)-[:INCLUDES]->(:Concept)\\n(:Financial_metric)-[:INCLUDES]->(:Financial_metric)\\n(:Financial_metric)-[:INCLUDES]->(:Financial_concept)\\n(:Financial_metric)-[:COMPONENT_OF]->(:Financial_concept)\\n(:Financial_metric)-[:DATE]->(:Date)\\n(:Financial_metric)-[:REPORTED_ON]->(:Date)\\n(:Financial_metric)-[:PROPORTION_OF]->(:Financial_metric)\\n(:Financial_metric)-[:HIGHER_PROPORTION_IN]->(:Location)\\n(:Financial_metric)-[:HIGHER_PROPORTION_IN]->(:Region)\\n(:Financial_metric)-[:VALUE_AS_OF]->(:Amount)\\n(:Financial_metric)-[:REALIZED_IN]->(:Percentage)\\n(:Financial_metric)-[:CONTRIBUTES_TO]->(:Financial_metric)\\n(:Financial_metric)-[:REDUCES]->(:Financial_metric)\\n(:Financial_concept)-[:INCLUDES]->(:Concept)\\n(:Financial_concept)-[:INCLUDES]->(:Financial_concept)\\n(:Financial_concept)-[:COMPONENT_OF]->(:Financial_concept)\\n(:Financial_concept)-[:RELATED_TO]->(:Organization)\\n(:Service)-[:OFFSET_BY]->(:Concept)\\n(:Service)-[:CONTRIBUTES_TO]->(:Financial_metric)\\n(:Service)-[:CATEGORY]->(:Financial_metric)\\n(:Service)-[:INCREASED]->(:Financial metric)\\n(:Service)-[:INCREASED]->(:Financial_metric)\\n(:Service)-[:COMPARED_TO]->(:Time_period)\\n(:Service)-[:DUE_TO_HIGHER_NET_SALES_FROM]->(:Concept)\\n(:Service)-[:INCREASED_DURING]->(:Time_period)\\n(:Financial statement item)-[:AS_OF]->(:Date)\\n(:Financial statement item)-[:COMPONENT_OF]->(:Financial statement item)\\n(:Financial_term)-[:RECORDED_ON]->(:Date)\\n(:Legal_term)-[:ASSOCIATED_WITH]->(:Organization)\\n(:Financial obligation)-[:PAYABLE_WITHIN_12_MONTHS]->(:Amount)\\n(:Financial obligation)-[:TOTAL_AMOUNT]->(:Amount)\\n(:Financial program)-[:AUTHORIZED_BY]->(:Organization)\\n(:Financial program)-[:AUTHORIZED_BY]->(:Entity)\\n(:Authorization)-[:UTILIZATION]->(:Amount)\\n(:Authorization)-[:TOTAL_AUTHORIZATION]->(:Amount)')"
   ]
  },
  {
   "cell_type": "code",
   "execution_count": 14,
   "metadata": {},
   "outputs": [],
   "source": [
    "from langchain_neo4j import GraphCypherQAChain\n",
    "# from langchain_neo4j.chains.graph_qa.prompts import CYPHER_GENERATION_PROMPT, CYPHER_QA_PROMPT\n",
    "\n",
    "graph_chain = GraphCypherQAChain.from_llm(\n",
    "    # llm,\n",
    "    cypher_llm=llm,\n",
    "    qa_llm=llm,\n",
    "    # qa_prompt=CYPHER_QA_PROMPT,\n",
    "    cypher_prompt=CYPHER_GENERATION_PROMPT,\n",
    "    graph=graph,\n",
    "    verbose=True,\n",
    "    max_depth=2,\n",
    "    max_hops=3,\n",
    "    # return_intermediate_steps=True,\n",
    "    # return_direct=True,\n",
    "    validate_cypher=True,\n",
    "    allow_dangerous_requests=True,\n",
    ")"
   ]
  },
  {
   "cell_type": "code",
   "execution_count": null,
   "metadata": {},
   "outputs": [],
   "source": [
    "# Load the CSV file\n",
    "import pandas as pd\n",
    "import time\n",
    "df = pd.read_csv(\"../../data/sec-10-q/synthetic_qna_data_7_gpt4o.csv\")\n",
    "\n",
    "# Filter for rows where Source Docs contains only AAPL\n",
    "apple_df = df[df['Source Docs'].str.contains('AAPL', na=False)]\n",
    "\n",
    "# Take first 10 samples\n",
    "apple_df = apple_df.head(10)\n",
    "\n",
    "# Evaluate the model\n",
    "correct = 0\n",
    "for i, row in apple_df.iterrows():\n",
    "    question = row[\"New Question\"]\n",
    "    answer = row[\"New Answer\"]\n",
    "    print(f\"\\nQuestion: {question}\")\n",
    "    print(f\"Expected Answer: {answer}\")\n",
    "    response = graph_chain.invoke(input=question)\n",
    "    print(f\"Model Response: {response}\")\n",
    "    if response == answer:\n",
    "        correct += 1\n",
    "    time.sleep(1)\n",
    "        \n",
    "print(f\"\\nAccuracy: {correct / 10}\")"
   ]
  },
  {
   "cell_type": "code",
   "execution_count": null,
   "metadata": {},
   "outputs": [],
   "source": [
    "graph_chain.invoke(input=\"Where was Apple Inc. Incorporated?\")"
   ]
  },
  {
   "cell_type": "code",
   "execution_count": null,
   "metadata": {},
   "outputs": [],
   "source": [
    "graph_documents[10].relationships"
   ]
  },
  {
   "cell_type": "code",
   "execution_count": null,
   "metadata": {},
   "outputs": [],
   "source": [
    "graph_chain.invoke(input=\" On April 1, 2023, what was the Amount of CASH_BEGINNING_BALANCE?\")"
   ]
  },
  {
   "cell_type": "code",
   "execution_count": null,
   "metadata": {},
   "outputs": [],
   "source": [
    "graph_chain.invoke(input=\"What assets does Apple Inc. have?\")"
   ]
  },
  {
   "cell_type": "code",
   "execution_count": null,
   "metadata": {},
   "outputs": [],
   "source": [
    "graph_chain.invoke(input=\"Apple inc. What was the amount for Cash Used In Investing Activities in 2023 Q3?\")"
   ]
  },
  {
   "cell_type": "code",
   "execution_count": null,
   "metadata": {},
   "outputs": [],
   "source": [
    "graph_chain.invoke(input=\"What was Apple Inc's Products gross margin percentage for the third quarter of 2022 as reported in their most recent 10-Q? Provide the percentage rounded to one decimal place.\")"
   ]
  }
 ],
 "metadata": {
  "kernelspec": {
   "display_name": ".venv",
   "language": "python",
   "name": "python3"
  },
  "language_info": {
   "codemirror_mode": {
    "name": "ipython",
    "version": 3
   },
   "file_extension": ".py",
   "mimetype": "text/x-python",
   "name": "python",
   "nbconvert_exporter": "python",
   "pygments_lexer": "ipython3",
   "version": "3.11.0"
  }
 },
 "nbformat": 4,
 "nbformat_minor": 4
}
