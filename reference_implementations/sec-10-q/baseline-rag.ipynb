{
 "cells": [
  {
   "cell_type": "code",
   "execution_count": 1,
   "metadata": {},
   "outputs": [],
   "source": [
    "# Import required libraries\n",
    "from langchain_community.document_loaders.pdf import PyPDFLoader\n",
    "from langchain_text_splitters import TokenTextSplitter\n",
    "from langchain.vectorstores.utils import filter_complex_metadata\n",
    "import os\n",
    "from pathlib import Path\n",
    "import chromadb\n",
    "import openai\n",
    "from tqdm.auto import tqdm\n",
    "import pandas as pd\n",
    "from chromadb.errors import InvalidCollectionException\n",
    "import time\n",
    "import tiktoken\n",
    "from typing import List, Dict, Any"
   ]
  },
  {
   "cell_type": "code",
   "execution_count": 2,
   "metadata": {},
   "outputs": [],
   "source": [
    "# Configuration\n",
    "class Config:\n",
    "    COLLECTION_NAME = \"sec_10q\"\n",
    "    CHROMA_PERSIST_DIR = \"chroma_db\"  # Directory to store ChromaDB files\n",
    "    OPENAI_MODEL = \"gpt-4o\"\n",
    "    OPENAI_EMBEDDING = \"text-embedding-3-small\"\n",
    "    BATCH_SIZE = 100\n",
    "    MAX_TOKENS_PER_BATCH = 8000\n",
    "    RATE_LIMIT_PAUSE = 60.0\n",
    "\n",
    "def setup_directories():\n",
    "    \"\"\"Create necessary directories.\"\"\"\n",
    "    dirs = {\n",
    "        \"DATA_DIR\": Path(\"data/sec-10-q\"),\n",
    "        \"TEXT_DIR\": Path(\"data/sec-10-q/text\")\n",
    "    }\n",
    "    \n",
    "    for dir_path in dirs.values():\n",
    "        dir_path.mkdir(exist_ok=True)\n",
    "        \n",
    "    return dirs"
   ]
  },
  {
   "cell_type": "code",
   "execution_count": 3,
   "metadata": {},
   "outputs": [],
   "source": [
    "class OpenAIEmbedding:\n",
    "    \"\"\"Generate embeddings using OpenAI's API with rate limiting and batching.\"\"\"\n",
    "    \n",
    "    def __init__(self, api_key: str, model: str = \"text-embedding-3-small\", \n",
    "                 batch_size: int = 100, max_tokens_per_batch: int = 8000,\n",
    "                 rate_limit_pause: float = 60.0):\n",
    "        self.client = openai.Client(api_key=api_key)\n",
    "        self.model = model\n",
    "        self.batch_size = batch_size\n",
    "        self.max_tokens_per_batch = max_tokens_per_batch\n",
    "        self.rate_limit_pause = rate_limit_pause\n",
    "        self.tokenizer = tiktoken.get_encoding(\"cl100k_base\")\n",
    "        \n",
    "    def count_tokens(self, text: str) -> int:\n",
    "        return len(self.tokenizer.encode(text))\n",
    "    \n",
    "    def create_batches(self, texts: List[str]) -> List[List[str]]:\n",
    "        batches = []\n",
    "        current_batch = []\n",
    "        current_tokens = 0\n",
    "        \n",
    "        for text in texts:\n",
    "            tokens = self.count_tokens(text)\n",
    "            \n",
    "            if tokens > self.max_tokens_per_batch:\n",
    "                if current_batch:\n",
    "                    batches.append(current_batch)\n",
    "                    current_batch = []\n",
    "                    current_tokens = 0\n",
    "                \n",
    "                words = text.split()\n",
    "                chunk = []\n",
    "                chunk_tokens = 0\n",
    "                \n",
    "                for word in words:\n",
    "                    word_tokens = self.count_tokens(word + ' ')\n",
    "                    if chunk_tokens + word_tokens > self.max_tokens_per_batch:\n",
    "                        batches.append([' '.join(chunk)])\n",
    "                        chunk = [word]\n",
    "                        chunk_tokens = word_tokens\n",
    "                    else:\n",
    "                        chunk.append(word)\n",
    "                        chunk_tokens += word_tokens\n",
    "                \n",
    "                if chunk:\n",
    "                    current_batch = [' '.join(chunk)]\n",
    "                    current_tokens = chunk_tokens\n",
    "                \n",
    "            elif current_tokens + tokens > self.max_tokens_per_batch or len(current_batch) >= self.batch_size:\n",
    "                batches.append(current_batch)\n",
    "                current_batch = [text]\n",
    "                current_tokens = tokens\n",
    "            else:\n",
    "                current_batch.append(text)\n",
    "                current_tokens += tokens\n",
    "        \n",
    "        if current_batch:\n",
    "            batches.append(current_batch)\n",
    "            \n",
    "        return batches\n",
    "\n",
    "    def generate(self, texts: List[str]) -> List[List[float]]:\n",
    "        batches = self.create_batches(texts)\n",
    "        all_embeddings = []\n",
    "        \n",
    "        print(f\"Processing {len(texts)} texts in {len(batches)} batches...\")\n",
    "        \n",
    "        for i, batch in enumerate(tqdm(batches, desc=\"Generating embeddings\")):\n",
    "            while True:\n",
    "                try:\n",
    "                    response = self.client.embeddings.create(\n",
    "                        input=batch,\n",
    "                        model=self.model\n",
    "                    )\n",
    "                    batch_embeddings = [data.embedding for data in response.data]\n",
    "                    all_embeddings.extend(batch_embeddings)\n",
    "                    break\n",
    "                except openai.RateLimitError as e:\n",
    "                    print(f\"Rate limit hit on batch {i+1}/{len(batches)}. Pausing for {self.rate_limit_pause} seconds...\")\n",
    "                    time.sleep(self.rate_limit_pause)\n",
    "                except Exception as e:\n",
    "                    print(f\"Error in batch {i+1}/{len(batches)}: {str(e)}\")\n",
    "                    raise\n",
    "                    \n",
    "            time.sleep(0.5)\n",
    "            \n",
    "        return all_embeddings"
   ]
  },
  {
   "cell_type": "code",
   "execution_count": 4,
   "metadata": {},
   "outputs": [],
   "source": [
    "\n",
    "class DocumentProcessor:\n",
    "    \"\"\"Process and chunk SEC-10Q documents using LangChain's document loaders and text splitters.\"\"\"\n",
    "    \n",
    "    def __init__(self):\n",
    "        self.text_splitter = TokenTextSplitter(chunk_size=512, chunk_overlap=24)\n",
    "    \n",
    "    def process_file(self, file_path: Path) -> list:\n",
    "        \"\"\"Process a single file using PyPDFLoader for PDFs or direct text reading.\"\"\"\n",
    "        metadata = {\n",
    "            \"filename\": file_path.name,\n",
    "            \"file_path\": str(file_path),\n",
    "            \"source\": \"sec_10q\"\n",
    "        }\n",
    "        \n",
    "        if file_path.suffix.lower() == \".pdf\":\n",
    "            # Use PyPDFLoader for PDF files\n",
    "            raw_documents = PyPDFLoader(file_path=str(file_path)).load()\n",
    "            # Split documents using TokenTextSplitter\n",
    "            documents = self.text_splitter.split_documents(raw_documents)\n",
    "            # Filter complex metadata\n",
    "            documents = filter_complex_metadata(documents)\n",
    "            # Convert to the format expected by ChromaDB\n",
    "            chunks = []\n",
    "            for doc in documents:\n",
    "                doc_metadata = {**metadata, **doc.metadata}\n",
    "                chunks.append((doc.page_content, doc_metadata))\n",
    "            return chunks\n",
    "        else:\n",
    "            # For text files, read directly and split\n",
    "            text = file_path.read_text()\n",
    "            texts = self.text_splitter.split_text(text)\n",
    "            return [(text, metadata) for text in texts]"
   ]
  },
  {
   "cell_type": "code",
   "execution_count": 5,
   "metadata": {},
   "outputs": [],
   "source": [
    "class ChromaDBManager:\n",
    "    \"\"\"Manage ChromaDB operations using local persistent client.\"\"\"\n",
    "    \n",
    "    def __init__(self, collection_name: str, persist_directory: str = \"chroma_db\",\n",
    "                 batch_size: int = 100):\n",
    "        self.client = chromadb.PersistentClient(path=persist_directory)\n",
    "        self.collection_name = collection_name\n",
    "        self.batch_size = batch_size\n",
    "        self.collection = self._get_or_create_collection()\n",
    "        \n",
    "    def _get_or_create_collection(self):\n",
    "        try:\n",
    "            collection = self.client.get_collection(self.collection_name)\n",
    "            print(f\"Found existing collection: {self.collection_name}\")\n",
    "        except InvalidCollectionException:\n",
    "            print(f\"Creating new collection: {self.collection_name}\")\n",
    "            collection = self.client.create_collection(self.collection_name)\n",
    "        return collection\n",
    "            \n",
    "    def add_documents(self, chunks: List[tuple], embedding_function):\n",
    "        if not chunks:\n",
    "            print(\"No documents to add\")\n",
    "            return\n",
    "            \n",
    "        print(f\"Processing {len(chunks)} chunks...\")\n",
    "        \n",
    "        for i in range(0, len(chunks), self.batch_size):\n",
    "            batch = chunks[i:i + self.batch_size]\n",
    "            \n",
    "            documents = []\n",
    "            metadatas = []\n",
    "            ids = []\n",
    "            \n",
    "            for j, (text, metadata) in enumerate(batch):\n",
    "                documents.append(text)\n",
    "                metadatas.append(metadata)\n",
    "                ids.append(f\"{metadata['filename']}_{i+j}\")\n",
    "            \n",
    "            try:\n",
    "                print(f\"Generating embeddings for batch {i//self.batch_size + 1}/{(len(chunks)-1)//self.batch_size + 1}\")\n",
    "                embeddings = embedding_function.generate(documents)\n",
    "                \n",
    "                print(f\"Adding batch to collection...\")\n",
    "                self.collection.add(\n",
    "                    documents=documents,\n",
    "                    metadatas=metadatas,\n",
    "                    ids=ids,\n",
    "                    embeddings=embeddings\n",
    "                )\n",
    "                \n",
    "            except Exception as e:\n",
    "                print(f\"Error processing batch {i//self.batch_size + 1}: {str(e)}\")\n",
    "                raise\n",
    "\n",
    "        print(f\"Successfully added all {len(chunks)} documents to collection\")\n",
    "\n",
    "    def query(self, query_text: str, embedding_function, n_results: int = 5):\n",
    "        try:\n",
    "            print(f\"Generating embedding for query: {query_text[:100]}...\")\n",
    "            query_embedding = embedding_function.generate([query_text])[0]\n",
    "            \n",
    "            print(f\"Querying collection for top {n_results} results...\")\n",
    "            results = self.collection.query(\n",
    "                query_embeddings=[query_embedding],\n",
    "                n_results=n_results\n",
    "            )\n",
    "            \n",
    "            return results\n",
    "        except Exception as e:\n",
    "            raise Exception(f\"Error querying ChromaDB: {str(e)}\")"
   ]
  },
  {
   "cell_type": "code",
   "execution_count": 6,
   "metadata": {},
   "outputs": [],
   "source": [
    "class RAGSystem:\n",
    "    \"\"\"Main RAG system implementation.\"\"\"\n",
    "    \n",
    "    def __init__(self, openai_api_key: str):\n",
    "        self.embedder = OpenAIEmbedding(openai_api_key)\n",
    "        self.processor = DocumentProcessor()\n",
    "        self.db_manager = ChromaDBManager(\n",
    "            collection_name=Config.COLLECTION_NAME,\n",
    "            persist_directory=Config.CHROMA_PERSIST_DIR\n",
    "        )\n",
    "        self.client = openai.Client(api_key=openai_api_key)\n",
    "        \n",
    "    def load_documents(self, docs_dir: Path):\n",
    "        \"\"\"Load documents from a directory.\"\"\"\n",
    "        all_chunks = []\n",
    "        \n",
    "        # Process all PDF files in the directory\n",
    "        for file_path in tqdm(list(docs_dir.glob(\"**/*.pdf\")), desc=\"Processing documents\"):\n",
    "            chunks = self.processor.process_file(file_path)\n",
    "            all_chunks.extend(chunks)\n",
    "            \n",
    "        self.db_manager.add_documents(all_chunks, self.embedder)\n",
    "        \n",
    "    def generate_answer(self, query: str, context: str) -> str:\n",
    "        messages = [\n",
    "            {\n",
    "                \"role\": \"system\",\n",
    "                \"content\": \"\"\"You are a helpful assistant that answers queries about SEC 10-Q filings. \n",
    "                Just follow the instructions from the question exactly and only use numerical values, no text. The current date is January 15, 2025.\"\"\"\n",
    "            },\n",
    "            {\n",
    "                \"role\": \"user\",\n",
    "                \"content\": f\"Using the following context, answer this question: {query}\\n\\nContext: {context}\"\n",
    "            }\n",
    "        ]\n",
    "        \n",
    "        response = self.client.chat.completions.create(\n",
    "            model=Config.OPENAI_MODEL,\n",
    "            messages=messages,\n",
    "            temperature=0\n",
    "        )\n",
    "        \n",
    "        return response.choices[0].message.content\n",
    "        \n",
    "    def query(self, question: str, n_results: int = 5) -> str:\n",
    "        results = self.db_manager.query(question, self.embedder, n_results)\n",
    "        \n",
    "        context = \"\\n\\n\".join([\n",
    "            f\"[From {meta['filename']}]:\\n{doc}\"\n",
    "            for doc, meta in zip(results['documents'][0], results['metadatas'][0])\n",
    "        ])\n",
    "        \n",
    "        return self.generate_answer(question, context)"
   ]
  },
  {
   "cell_type": "code",
   "execution_count": 7,
   "metadata": {},
   "outputs": [
    {
     "name": "stdout",
     "output_type": "stream",
     "text": [
      "Found existing collection: sec_10q\n"
     ]
    },
    {
     "data": {
      "application/vnd.jupyter.widget-view+json": {
       "model_id": "02b8e7511e804ac8ac7d5e5c304bc313",
       "version_major": 2,
       "version_minor": 0
      },
      "text/plain": [
       "Processing documents:   0%|          | 0/20 [00:00<?, ?it/s]"
      ]
     },
     "metadata": {},
     "output_type": "display_data"
    },
    {
     "name": "stdout",
     "output_type": "stream",
     "text": [
      "Processing 1937 chunks...\n",
      "Generating embeddings for batch 1/20\n",
      "Processing 100 texts in 5 batches...\n"
     ]
    },
    {
     "data": {
      "application/vnd.jupyter.widget-view+json": {
       "model_id": "8a28ee26f54d41e7ab1e5882cc929d63",
       "version_major": 2,
       "version_minor": 0
      },
      "text/plain": [
       "Generating embeddings:   0%|          | 0/5 [00:00<?, ?it/s]"
      ]
     },
     "metadata": {},
     "output_type": "display_data"
    },
    {
     "name": "stdout",
     "output_type": "stream",
     "text": [
      "Adding batch to collection...\n",
      "Generating embeddings for batch 2/20\n",
      "Processing 100 texts in 5 batches...\n"
     ]
    },
    {
     "data": {
      "application/vnd.jupyter.widget-view+json": {
       "model_id": "46b60f6f29274ec8b011873b9bf9d4d6",
       "version_major": 2,
       "version_minor": 0
      },
      "text/plain": [
       "Generating embeddings:   0%|          | 0/5 [00:00<?, ?it/s]"
      ]
     },
     "metadata": {},
     "output_type": "display_data"
    },
    {
     "name": "stdout",
     "output_type": "stream",
     "text": [
      "Adding batch to collection...\n",
      "Generating embeddings for batch 3/20\n",
      "Processing 100 texts in 5 batches...\n"
     ]
    },
    {
     "data": {
      "application/vnd.jupyter.widget-view+json": {
       "model_id": "7a109815cffc4afcbe8541233b415fa4",
       "version_major": 2,
       "version_minor": 0
      },
      "text/plain": [
       "Generating embeddings:   0%|          | 0/5 [00:00<?, ?it/s]"
      ]
     },
     "metadata": {},
     "output_type": "display_data"
    },
    {
     "name": "stdout",
     "output_type": "stream",
     "text": [
      "Adding batch to collection...\n",
      "Generating embeddings for batch 4/20\n",
      "Processing 100 texts in 5 batches...\n"
     ]
    },
    {
     "data": {
      "application/vnd.jupyter.widget-view+json": {
       "model_id": "e054ce87b7224d478bfc0c6da0486c7b",
       "version_major": 2,
       "version_minor": 0
      },
      "text/plain": [
       "Generating embeddings:   0%|          | 0/5 [00:00<?, ?it/s]"
      ]
     },
     "metadata": {},
     "output_type": "display_data"
    },
    {
     "name": "stdout",
     "output_type": "stream",
     "text": [
      "Adding batch to collection...\n",
      "Generating embeddings for batch 5/20\n",
      "Processing 100 texts in 5 batches...\n"
     ]
    },
    {
     "data": {
      "application/vnd.jupyter.widget-view+json": {
       "model_id": "35e0a4bcea124a1ebf8077d1d21420d2",
       "version_major": 2,
       "version_minor": 0
      },
      "text/plain": [
       "Generating embeddings:   0%|          | 0/5 [00:00<?, ?it/s]"
      ]
     },
     "metadata": {},
     "output_type": "display_data"
    },
    {
     "name": "stdout",
     "output_type": "stream",
     "text": [
      "Adding batch to collection...\n",
      "Generating embeddings for batch 6/20\n",
      "Processing 100 texts in 5 batches...\n"
     ]
    },
    {
     "data": {
      "application/vnd.jupyter.widget-view+json": {
       "model_id": "791a8339adc04db493f554b60781335d",
       "version_major": 2,
       "version_minor": 0
      },
      "text/plain": [
       "Generating embeddings:   0%|          | 0/5 [00:00<?, ?it/s]"
      ]
     },
     "metadata": {},
     "output_type": "display_data"
    },
    {
     "name": "stdout",
     "output_type": "stream",
     "text": [
      "Adding batch to collection...\n",
      "Generating embeddings for batch 7/20\n",
      "Processing 100 texts in 5 batches...\n"
     ]
    },
    {
     "data": {
      "application/vnd.jupyter.widget-view+json": {
       "model_id": "f2c407480c464f48a069a72a1808b820",
       "version_major": 2,
       "version_minor": 0
      },
      "text/plain": [
       "Generating embeddings:   0%|          | 0/5 [00:00<?, ?it/s]"
      ]
     },
     "metadata": {},
     "output_type": "display_data"
    },
    {
     "name": "stdout",
     "output_type": "stream",
     "text": [
      "Adding batch to collection...\n",
      "Generating embeddings for batch 8/20\n",
      "Processing 100 texts in 5 batches...\n"
     ]
    },
    {
     "data": {
      "application/vnd.jupyter.widget-view+json": {
       "model_id": "a485d47bf03f48fa8594a1c5eb3c88a0",
       "version_major": 2,
       "version_minor": 0
      },
      "text/plain": [
       "Generating embeddings:   0%|          | 0/5 [00:00<?, ?it/s]"
      ]
     },
     "metadata": {},
     "output_type": "display_data"
    },
    {
     "name": "stdout",
     "output_type": "stream",
     "text": [
      "Adding batch to collection...\n",
      "Generating embeddings for batch 9/20\n",
      "Processing 100 texts in 5 batches...\n"
     ]
    },
    {
     "data": {
      "application/vnd.jupyter.widget-view+json": {
       "model_id": "135cf3f1e954438a8eccd83649354d0b",
       "version_major": 2,
       "version_minor": 0
      },
      "text/plain": [
       "Generating embeddings:   0%|          | 0/5 [00:00<?, ?it/s]"
      ]
     },
     "metadata": {},
     "output_type": "display_data"
    },
    {
     "name": "stdout",
     "output_type": "stream",
     "text": [
      "Adding batch to collection...\n",
      "Generating embeddings for batch 10/20\n",
      "Processing 100 texts in 5 batches...\n"
     ]
    },
    {
     "data": {
      "application/vnd.jupyter.widget-view+json": {
       "model_id": "2d0c90992fb94ce2ab6697443917adf3",
       "version_major": 2,
       "version_minor": 0
      },
      "text/plain": [
       "Generating embeddings:   0%|          | 0/5 [00:00<?, ?it/s]"
      ]
     },
     "metadata": {},
     "output_type": "display_data"
    },
    {
     "name": "stdout",
     "output_type": "stream",
     "text": [
      "Adding batch to collection...\n",
      "Generating embeddings for batch 11/20\n",
      "Processing 100 texts in 5 batches...\n"
     ]
    },
    {
     "data": {
      "application/vnd.jupyter.widget-view+json": {
       "model_id": "3720f5485b8845f3adf9b70a095b9d83",
       "version_major": 2,
       "version_minor": 0
      },
      "text/plain": [
       "Generating embeddings:   0%|          | 0/5 [00:00<?, ?it/s]"
      ]
     },
     "metadata": {},
     "output_type": "display_data"
    },
    {
     "name": "stdout",
     "output_type": "stream",
     "text": [
      "Adding batch to collection...\n",
      "Generating embeddings for batch 12/20\n",
      "Processing 100 texts in 5 batches...\n"
     ]
    },
    {
     "data": {
      "application/vnd.jupyter.widget-view+json": {
       "model_id": "ef81a7156b8447dd8aa19ece384a961f",
       "version_major": 2,
       "version_minor": 0
      },
      "text/plain": [
       "Generating embeddings:   0%|          | 0/5 [00:00<?, ?it/s]"
      ]
     },
     "metadata": {},
     "output_type": "display_data"
    },
    {
     "name": "stdout",
     "output_type": "stream",
     "text": [
      "Adding batch to collection...\n",
      "Generating embeddings for batch 13/20\n",
      "Processing 100 texts in 5 batches...\n"
     ]
    },
    {
     "data": {
      "application/vnd.jupyter.widget-view+json": {
       "model_id": "9d229aeff43a4e48a855fc41ae66aa3e",
       "version_major": 2,
       "version_minor": 0
      },
      "text/plain": [
       "Generating embeddings:   0%|          | 0/5 [00:00<?, ?it/s]"
      ]
     },
     "metadata": {},
     "output_type": "display_data"
    },
    {
     "name": "stdout",
     "output_type": "stream",
     "text": [
      "Adding batch to collection...\n",
      "Generating embeddings for batch 14/20\n",
      "Processing 100 texts in 5 batches...\n"
     ]
    },
    {
     "data": {
      "application/vnd.jupyter.widget-view+json": {
       "model_id": "1e717ef984c64c69b6da5308b0ce6168",
       "version_major": 2,
       "version_minor": 0
      },
      "text/plain": [
       "Generating embeddings:   0%|          | 0/5 [00:00<?, ?it/s]"
      ]
     },
     "metadata": {},
     "output_type": "display_data"
    },
    {
     "name": "stdout",
     "output_type": "stream",
     "text": [
      "Adding batch to collection...\n",
      "Generating embeddings for batch 15/20\n",
      "Processing 100 texts in 5 batches...\n"
     ]
    },
    {
     "data": {
      "application/vnd.jupyter.widget-view+json": {
       "model_id": "35aae954eb11480e8601f0f47f6cf5e5",
       "version_major": 2,
       "version_minor": 0
      },
      "text/plain": [
       "Generating embeddings:   0%|          | 0/5 [00:00<?, ?it/s]"
      ]
     },
     "metadata": {},
     "output_type": "display_data"
    },
    {
     "name": "stdout",
     "output_type": "stream",
     "text": [
      "Adding batch to collection...\n",
      "Generating embeddings for batch 16/20\n",
      "Processing 100 texts in 6 batches...\n"
     ]
    },
    {
     "data": {
      "application/vnd.jupyter.widget-view+json": {
       "model_id": "d30da47c01024b5596959f30a6e31b53",
       "version_major": 2,
       "version_minor": 0
      },
      "text/plain": [
       "Generating embeddings:   0%|          | 0/6 [00:00<?, ?it/s]"
      ]
     },
     "metadata": {},
     "output_type": "display_data"
    },
    {
     "name": "stdout",
     "output_type": "stream",
     "text": [
      "Adding batch to collection...\n",
      "Generating embeddings for batch 17/20\n",
      "Processing 100 texts in 6 batches...\n"
     ]
    },
    {
     "data": {
      "application/vnd.jupyter.widget-view+json": {
       "model_id": "b7917aec1d594561982c24693414825c",
       "version_major": 2,
       "version_minor": 0
      },
      "text/plain": [
       "Generating embeddings:   0%|          | 0/6 [00:00<?, ?it/s]"
      ]
     },
     "metadata": {},
     "output_type": "display_data"
    },
    {
     "name": "stdout",
     "output_type": "stream",
     "text": [
      "Adding batch to collection...\n",
      "Generating embeddings for batch 18/20\n",
      "Processing 100 texts in 5 batches...\n"
     ]
    },
    {
     "data": {
      "application/vnd.jupyter.widget-view+json": {
       "model_id": "cbeeac3faba544e5a1a39d69a471a6ef",
       "version_major": 2,
       "version_minor": 0
      },
      "text/plain": [
       "Generating embeddings:   0%|          | 0/5 [00:00<?, ?it/s]"
      ]
     },
     "metadata": {},
     "output_type": "display_data"
    },
    {
     "name": "stdout",
     "output_type": "stream",
     "text": [
      "Adding batch to collection...\n",
      "Generating embeddings for batch 19/20\n",
      "Processing 100 texts in 5 batches...\n"
     ]
    },
    {
     "data": {
      "application/vnd.jupyter.widget-view+json": {
       "model_id": "5accad078bc047aaaac7fb38ce45da7a",
       "version_major": 2,
       "version_minor": 0
      },
      "text/plain": [
       "Generating embeddings:   0%|          | 0/5 [00:00<?, ?it/s]"
      ]
     },
     "metadata": {},
     "output_type": "display_data"
    },
    {
     "name": "stdout",
     "output_type": "stream",
     "text": [
      "Adding batch to collection...\n",
      "Generating embeddings for batch 20/20\n",
      "Processing 37 texts in 2 batches...\n"
     ]
    },
    {
     "data": {
      "application/vnd.jupyter.widget-view+json": {
       "model_id": "d92fbbdd23154e8c9711d8bd8a282f96",
       "version_major": 2,
       "version_minor": 0
      },
      "text/plain": [
       "Generating embeddings:   0%|          | 0/2 [00:00<?, ?it/s]"
      ]
     },
     "metadata": {},
     "output_type": "display_data"
    },
    {
     "name": "stdout",
     "output_type": "stream",
     "text": [
      "Adding batch to collection...\n",
      "Successfully added all 1937 documents to collection\n"
     ]
    },
    {
     "data": {
      "application/vnd.jupyter.widget-view+json": {
       "model_id": "04c3fd3f1d164db08f6f572f17808b8a",
       "version_major": 2,
       "version_minor": 0
      },
      "text/plain": [
       "Evaluating questions:   0%|          | 0/50 [00:00<?, ?it/s]"
      ]
     },
     "metadata": {},
     "output_type": "display_data"
    },
    {
     "name": "stdout",
     "output_type": "stream",
     "text": [
      "Generating embedding for query: What was the total net sales for Apple for the quarterly period ended April 1, 2023, as reported in ...\n",
      "Processing 1 texts in 1 batches...\n"
     ]
    },
    {
     "data": {
      "application/vnd.jupyter.widget-view+json": {
       "model_id": "b2a8467ae8ae43db86abac1cb7cc45b5",
       "version_major": 2,
       "version_minor": 0
      },
      "text/plain": [
       "Generating embeddings:   0%|          | 0/1 [00:00<?, ?it/s]"
      ]
     },
     "metadata": {},
     "output_type": "display_data"
    },
    {
     "name": "stdout",
     "output_type": "stream",
     "text": [
      "Querying collection for top 5 results...\n",
      "Generating embedding for query: What was the Products gross margin percentage for Apple for the quarter ended July 1, 2023, as repor...\n",
      "Processing 1 texts in 1 batches...\n"
     ]
    },
    {
     "data": {
      "application/vnd.jupyter.widget-view+json": {
       "model_id": "d3182f72b93f4394964ea49f6cdd7316",
       "version_major": 2,
       "version_minor": 0
      },
      "text/plain": [
       "Generating embeddings:   0%|          | 0/1 [00:00<?, ?it/s]"
      ]
     },
     "metadata": {},
     "output_type": "display_data"
    },
    {
     "name": "stdout",
     "output_type": "stream",
     "text": [
      "Querying collection for top 5 results...\n",
      "Generating embedding for query: What was the increase in Apple's R&D expenses from the third quarter of 2022 to the first quarter of...\n",
      "Processing 1 texts in 1 batches...\n"
     ]
    },
    {
     "data": {
      "application/vnd.jupyter.widget-view+json": {
       "model_id": "6cb225575b384ff6ae871a13e0ed459d",
       "version_major": 2,
       "version_minor": 0
      },
      "text/plain": [
       "Generating embeddings:   0%|          | 0/1 [00:00<?, ?it/s]"
      ]
     },
     "metadata": {},
     "output_type": "display_data"
    },
    {
     "name": "stdout",
     "output_type": "stream",
     "text": [
      "Querying collection for top 5 results...\n",
      "Generating embedding for query: What was the revenue from iPhone sales for Apple in the quarter ended April 1, 2023, as reported in ...\n",
      "Processing 1 texts in 1 batches...\n"
     ]
    },
    {
     "data": {
      "application/vnd.jupyter.widget-view+json": {
       "model_id": "b1aa0dc70a104063bff3e92035f55428",
       "version_major": 2,
       "version_minor": 0
      },
      "text/plain": [
       "Generating embeddings:   0%|          | 0/1 [00:00<?, ?it/s]"
      ]
     },
     "metadata": {},
     "output_type": "display_data"
    },
    {
     "name": "stdout",
     "output_type": "stream",
     "text": [
      "Querying collection for top 5 results...\n",
      "Generating embedding for query: What was the increase in Apple's Services segment net sales from the quarter ended June 25, 2022, to...\n",
      "Processing 1 texts in 1 batches...\n"
     ]
    },
    {
     "data": {
      "application/vnd.jupyter.widget-view+json": {
       "model_id": "aba7e4196acd435f845b9b843b0bc61c",
       "version_major": 2,
       "version_minor": 0
      },
      "text/plain": [
       "Generating embeddings:   0%|          | 0/1 [00:00<?, ?it/s]"
      ]
     },
     "metadata": {},
     "output_type": "display_data"
    },
    {
     "name": "stdout",
     "output_type": "stream",
     "text": [
      "Querying collection for top 5 results...\n",
      "Generating embedding for query: What was the decrease in Apple's total net sales due to foreign currency weakness for the quarterly ...\n",
      "Processing 1 texts in 1 batches...\n"
     ]
    },
    {
     "data": {
      "application/vnd.jupyter.widget-view+json": {
       "model_id": "36074c22a80a46aca42c9105ebfc68b8",
       "version_major": 2,
       "version_minor": 0
      },
      "text/plain": [
       "Generating embeddings:   0%|          | 0/1 [00:00<?, ?it/s]"
      ]
     },
     "metadata": {},
     "output_type": "display_data"
    },
    {
     "name": "stdout",
     "output_type": "stream",
     "text": [
      "Querying collection for top 5 results...\n",
      "Generating embedding for query: What was the increase in Apple's R&D expenditure from the quarter ended June 25, 2022, to the quarte...\n",
      "Processing 1 texts in 1 batches...\n"
     ]
    },
    {
     "data": {
      "application/vnd.jupyter.widget-view+json": {
       "model_id": "2eb218f1b29d40cb9f353caa6e838510",
       "version_major": 2,
       "version_minor": 0
      },
      "text/plain": [
       "Generating embeddings:   0%|          | 0/1 [00:00<?, ?it/s]"
      ]
     },
     "metadata": {},
     "output_type": "display_data"
    },
    {
     "name": "stdout",
     "output_type": "stream",
     "text": [
      "Querying collection for top 5 results...\n",
      "Generating embedding for query: What was the total number of shares repurchased by Apple for the quarters ended June 25, 2022, Decem...\n",
      "Processing 1 texts in 1 batches...\n"
     ]
    },
    {
     "data": {
      "application/vnd.jupyter.widget-view+json": {
       "model_id": "d6c4d881b8df4aad84591e1b2e122abc",
       "version_major": 2,
       "version_minor": 0
      },
      "text/plain": [
       "Generating embeddings:   0%|          | 0/1 [00:00<?, ?it/s]"
      ]
     },
     "metadata": {},
     "output_type": "display_data"
    },
    {
     "name": "stdout",
     "output_type": "stream",
     "text": [
      "Querying collection for top 5 results...\n",
      "Generating embedding for query: What was the effective tax rate for Apple for the quarter ended July 1, 2023, as reported in their 2...\n",
      "Processing 1 texts in 1 batches...\n"
     ]
    },
    {
     "data": {
      "application/vnd.jupyter.widget-view+json": {
       "model_id": "bfcc78641e9549649bcb23fbef110268",
       "version_major": 2,
       "version_minor": 0
      },
      "text/plain": [
       "Generating embeddings:   0%|          | 0/1 [00:00<?, ?it/s]"
      ]
     },
     "metadata": {},
     "output_type": "display_data"
    },
    {
     "name": "stdout",
     "output_type": "stream",
     "text": [
      "Querying collection for top 5 results...\n",
      "Generating embedding for query: What was the interest expense for Microsoft for the quarter ended September 30, 2023, as reported in...\n",
      "Processing 1 texts in 1 batches...\n"
     ]
    },
    {
     "data": {
      "application/vnd.jupyter.widget-view+json": {
       "model_id": "86b9cc367b7b4694ac23866feca3bab3",
       "version_major": 2,
       "version_minor": 0
      },
      "text/plain": [
       "Generating embeddings:   0%|          | 0/1 [00:00<?, ?it/s]"
      ]
     },
     "metadata": {},
     "output_type": "display_data"
    },
    {
     "name": "stdout",
     "output_type": "stream",
     "text": [
      "Querying collection for top 5 results...\n",
      "Generating embedding for query: What was Microsoft's effective tax rate for the quarter ended September 30, 2023, as reported in the...\n",
      "Processing 1 texts in 1 batches...\n"
     ]
    },
    {
     "data": {
      "application/vnd.jupyter.widget-view+json": {
       "model_id": "816d786f588c4d02961a0e2014ee3f40",
       "version_major": 2,
       "version_minor": 0
      },
      "text/plain": [
       "Generating embeddings:   0%|          | 0/1 [00:00<?, ?it/s]"
      ]
     },
     "metadata": {},
     "output_type": "display_data"
    },
    {
     "name": "stdout",
     "output_type": "stream",
     "text": [
      "Querying collection for top 5 results...\n",
      "Generating embedding for query: What was the cash payment made by Microsoft for the acquisition of Activision Blizzard, Inc., net of...\n",
      "Processing 1 texts in 1 batches...\n"
     ]
    },
    {
     "data": {
      "application/vnd.jupyter.widget-view+json": {
       "model_id": "8ff6e6da5ffa442690f83fa9bd2c68c3",
       "version_major": 2,
       "version_minor": 0
      },
      "text/plain": [
       "Generating embeddings:   0%|          | 0/1 [00:00<?, ?it/s]"
      ]
     },
     "metadata": {},
     "output_type": "display_data"
    },
    {
     "name": "stdout",
     "output_type": "stream",
     "text": [
      "Querying collection for top 5 results...\n",
      "Generating embedding for query: What was Microsoft's inventory level for the quarter ended March 31, 2023, as reported in their 2023...\n",
      "Processing 1 texts in 1 batches...\n"
     ]
    },
    {
     "data": {
      "application/vnd.jupyter.widget-view+json": {
       "model_id": "2049526e02024aa9930517cb68afdc52",
       "version_major": 2,
       "version_minor": 0
      },
      "text/plain": [
       "Generating embeddings:   0%|          | 0/1 [00:00<?, ?it/s]"
      ]
     },
     "metadata": {},
     "output_type": "display_data"
    },
    {
     "name": "stdout",
     "output_type": "stream",
     "text": [
      "Querying collection for top 5 results...\n",
      "Generating embedding for query: What was the total net sales for NVIDIA for the quarterly period ended October 29, 2023, as reported...\n",
      "Processing 1 texts in 1 batches...\n"
     ]
    },
    {
     "data": {
      "application/vnd.jupyter.widget-view+json": {
       "model_id": "3ed919b851bd4224904be7657aef99e8",
       "version_major": 2,
       "version_minor": 0
      },
      "text/plain": [
       "Generating embeddings:   0%|          | 0/1 [00:00<?, ?it/s]"
      ]
     },
     "metadata": {},
     "output_type": "display_data"
    },
    {
     "name": "stdout",
     "output_type": "stream",
     "text": [
      "Querying collection for top 5 results...\n",
      "Generating embedding for query: What was the acquisition termination cost recorded by NVIDIA in the first quarter of fiscal year 202...\n",
      "Processing 1 texts in 1 batches...\n"
     ]
    },
    {
     "data": {
      "application/vnd.jupyter.widget-view+json": {
       "model_id": "5233d9b3b78642839981a1156b913c31",
       "version_major": 2,
       "version_minor": 0
      },
      "text/plain": [
       "Generating embeddings:   0%|          | 0/1 [00:00<?, ?it/s]"
      ]
     },
     "metadata": {},
     "output_type": "display_data"
    },
    {
     "name": "stdout",
     "output_type": "stream",
     "text": [
      "Querying collection for top 5 results...\n",
      "Generating embedding for query: What was the increase in NVIDIA's Data Center segment revenue from the quarter ended April 30, 2023,...\n",
      "Processing 1 texts in 1 batches...\n"
     ]
    },
    {
     "data": {
      "application/vnd.jupyter.widget-view+json": {
       "model_id": "7c190e3c5949473f886726a82f096409",
       "version_major": 2,
       "version_minor": 0
      },
      "text/plain": [
       "Generating embeddings:   0%|          | 0/1 [00:00<?, ?it/s]"
      ]
     },
     "metadata": {},
     "output_type": "display_data"
    },
    {
     "name": "stdout",
     "output_type": "stream",
     "text": [
      "Querying collection for top 5 results...\n",
      "Generating embedding for query: What was the total amount NVIDIA spent on share repurchases during the quarters ended April 30, 2023...\n",
      "Processing 1 texts in 1 batches...\n"
     ]
    },
    {
     "data": {
      "application/vnd.jupyter.widget-view+json": {
       "model_id": "28bebc47c8fc4315a127131da8f7d6f1",
       "version_major": 2,
       "version_minor": 0
      },
      "text/plain": [
       "Generating embeddings:   0%|          | 0/1 [00:00<?, ?it/s]"
      ]
     },
     "metadata": {},
     "output_type": "display_data"
    },
    {
     "name": "stdout",
     "output_type": "stream",
     "text": [
      "Querying collection for top 5 results...\n",
      "Generating embedding for query: What was the increase in NVIDIA's research and development expenses from the quarter ended October 3...\n",
      "Processing 1 texts in 1 batches...\n"
     ]
    },
    {
     "data": {
      "application/vnd.jupyter.widget-view+json": {
       "model_id": "20979bc09ed4477fb3be89118dc1a481",
       "version_major": 2,
       "version_minor": 0
      },
      "text/plain": [
       "Generating embeddings:   0%|          | 0/1 [00:00<?, ?it/s]"
      ]
     },
     "metadata": {},
     "output_type": "display_data"
    },
    {
     "name": "stdout",
     "output_type": "stream",
     "text": [
      "Querying collection for top 5 results...\n",
      "Generating embedding for query: How many derivative lawsuits were pending against NVIDIA (excluding those that are stayed or closed)...\n",
      "Processing 1 texts in 1 batches...\n"
     ]
    },
    {
     "data": {
      "application/vnd.jupyter.widget-view+json": {
       "model_id": "0483b94274ed419e85fbea69241fb7ae",
       "version_major": 2,
       "version_minor": 0
      },
      "text/plain": [
       "Generating embeddings:   0%|          | 0/1 [00:00<?, ?it/s]"
      ]
     },
     "metadata": {},
     "output_type": "display_data"
    },
    {
     "name": "stdout",
     "output_type": "stream",
     "text": [
      "Querying collection for top 5 results...\n",
      "Generating embedding for query: What was the change in NVIDIA's inventory levels from October 30, 2022, to October 29, 2023, as repo...\n",
      "Processing 1 texts in 1 batches...\n"
     ]
    },
    {
     "data": {
      "application/vnd.jupyter.widget-view+json": {
       "model_id": "3484310a10b94bff9ab1b13487a455fd",
       "version_major": 2,
       "version_minor": 0
      },
      "text/plain": [
       "Generating embeddings:   0%|          | 0/1 [00:00<?, ?it/s]"
      ]
     },
     "metadata": {},
     "output_type": "display_data"
    },
    {
     "name": "stdout",
     "output_type": "stream",
     "text": [
      "Querying collection for top 5 results...\n",
      "Generating embedding for query: What was the total net revenue for Intel for the quarterly period ended July 1, 2023, as reported in...\n",
      "Processing 1 texts in 1 batches...\n"
     ]
    },
    {
     "data": {
      "application/vnd.jupyter.widget-view+json": {
       "model_id": "55e8a2c825cf4bf38960d203df12d4e3",
       "version_major": 2,
       "version_minor": 0
      },
      "text/plain": [
       "Generating embeddings:   0%|          | 0/1 [00:00<?, ?it/s]"
      ]
     },
     "metadata": {},
     "output_type": "display_data"
    },
    {
     "name": "stdout",
     "output_type": "stream",
     "text": [
      "Querying collection for top 5 results...\n",
      "Generating embedding for query: What was the gross margin percentage for Intel in the quarter ended September 30, 2023, as reported ...\n",
      "Processing 1 texts in 1 batches...\n"
     ]
    },
    {
     "data": {
      "application/vnd.jupyter.widget-view+json": {
       "model_id": "586a19a389fa476990b4ec0224ff0e95",
       "version_major": 2,
       "version_minor": 0
      },
      "text/plain": [
       "Generating embeddings:   0%|          | 0/1 [00:00<?, ?it/s]"
      ]
     },
     "metadata": {},
     "output_type": "display_data"
    },
    {
     "name": "stdout",
     "output_type": "stream",
     "text": [
      "Querying collection for top 5 results...\n",
      "Generating embedding for query: What was the amount of restructuring and other charges for Intel in the quarter ended September 30, ...\n",
      "Processing 1 texts in 1 batches...\n"
     ]
    },
    {
     "data": {
      "application/vnd.jupyter.widget-view+json": {
       "model_id": "f5dca8f5b9714c88ae446d746ee8ddbd",
       "version_major": 2,
       "version_minor": 0
      },
      "text/plain": [
       "Generating embeddings:   0%|          | 0/1 [00:00<?, ?it/s]"
      ]
     },
     "metadata": {},
     "output_type": "display_data"
    },
    {
     "name": "stdout",
     "output_type": "stream",
     "text": [
      "Querying collection for top 5 results...\n",
      "Generating embedding for query: What was Intel's total revenue from chip sales for the quarter ended June 30, 2023, as reported in t...\n",
      "Processing 1 texts in 1 batches...\n"
     ]
    },
    {
     "data": {
      "application/vnd.jupyter.widget-view+json": {
       "model_id": "fabeb28bb2db49e8955a93352220024c",
       "version_major": 2,
       "version_minor": 0
      },
      "text/plain": [
       "Generating embeddings:   0%|          | 0/1 [00:00<?, ?it/s]"
      ]
     },
     "metadata": {},
     "output_type": "display_data"
    },
    {
     "name": "stdout",
     "output_type": "stream",
     "text": [
      "Querying collection for top 5 results...\n",
      "Generating embedding for query: What was the total revenue for Intel's Data Center and AI (DCAI) operating segment for the quarters ...\n",
      "Processing 1 texts in 1 batches...\n"
     ]
    },
    {
     "data": {
      "application/vnd.jupyter.widget-view+json": {
       "model_id": "507590173a2d40f8bd0ca42af17a3580",
       "version_major": 2,
       "version_minor": 0
      },
      "text/plain": [
       "Generating embeddings:   0%|          | 0/1 [00:00<?, ?it/s]"
      ]
     },
     "metadata": {},
     "output_type": "display_data"
    },
    {
     "name": "stdout",
     "output_type": "stream",
     "text": [
      "Querying collection for top 5 results...\n",
      "Generating embedding for query: What was the decrease in Intel's research and development expenses from the quarter ended April 1, 2...\n",
      "Processing 1 texts in 1 batches...\n"
     ]
    },
    {
     "data": {
      "application/vnd.jupyter.widget-view+json": {
       "model_id": "59b274a441e649c09f1741e576fad312",
       "version_major": 2,
       "version_minor": 0
      },
      "text/plain": [
       "Generating embeddings:   0%|          | 0/1 [00:00<?, ?it/s]"
      ]
     },
     "metadata": {},
     "output_type": "display_data"
    },
    {
     "name": "stdout",
     "output_type": "stream",
     "text": [
      "Querying collection for top 5 results...\n",
      "Generating embedding for query: What was the termination fee charged to Intel in the third quarter of 2023 due to the mutual agreeme...\n",
      "Processing 1 texts in 1 batches...\n"
     ]
    },
    {
     "data": {
      "application/vnd.jupyter.widget-view+json": {
       "model_id": "5e894b51438f4845ba4088ef84dd5235",
       "version_major": 2,
       "version_minor": 0
      },
      "text/plain": [
       "Generating embeddings:   0%|          | 0/1 [00:00<?, ?it/s]"
      ]
     },
     "metadata": {},
     "output_type": "display_data"
    },
    {
     "name": "stdout",
     "output_type": "stream",
     "text": [
      "Querying collection for top 5 results...\n",
      "Generating embedding for query: What was the total amount of commercial paper settled in cash by Intel in the third quarter of 2023,...\n",
      "Processing 1 texts in 1 batches...\n"
     ]
    },
    {
     "data": {
      "application/vnd.jupyter.widget-view+json": {
       "model_id": "6a1bdaca28024ae584e3d08843c329d2",
       "version_major": 2,
       "version_minor": 0
      },
      "text/plain": [
       "Generating embeddings:   0%|          | 0/1 [00:00<?, ?it/s]"
      ]
     },
     "metadata": {},
     "output_type": "display_data"
    },
    {
     "name": "stdout",
     "output_type": "stream",
     "text": [
      "Querying collection for top 5 results...\n",
      "Generating embedding for query: What is the new estimated useful life, in years, for NVIDIA's assembly and test equipment as reporte...\n",
      "Processing 1 texts in 1 batches...\n"
     ]
    },
    {
     "data": {
      "application/vnd.jupyter.widget-view+json": {
       "model_id": "ed10433bf157465bb7b7ea47390a773b",
       "version_major": 2,
       "version_minor": 0
      },
      "text/plain": [
       "Generating embeddings:   0%|          | 0/1 [00:00<?, ?it/s]"
      ]
     },
     "metadata": {},
     "output_type": "display_data"
    },
    {
     "name": "stdout",
     "output_type": "stream",
     "text": [
      "Querying collection for top 5 results...\n",
      "Generating embedding for query: What was the total revenue for Microsoft's Productivity and Business Processes, Intelligent Cloud, a...\n",
      "Processing 1 texts in 1 batches...\n"
     ]
    },
    {
     "data": {
      "application/vnd.jupyter.widget-view+json": {
       "model_id": "0c8dd1c7146d4d9ea527bea2af0e534e",
       "version_major": 2,
       "version_minor": 0
      },
      "text/plain": [
       "Generating embeddings:   0%|          | 0/1 [00:00<?, ?it/s]"
      ]
     },
     "metadata": {},
     "output_type": "display_data"
    },
    {
     "name": "stdout",
     "output_type": "stream",
     "text": [
      "Querying collection for top 5 results...\n",
      "Generating embedding for query: What was Amazon's stock-based compensation expense for the six months ended June 30, 2023, as report...\n",
      "Processing 1 texts in 1 batches...\n"
     ]
    },
    {
     "data": {
      "application/vnd.jupyter.widget-view+json": {
       "model_id": "3659b5519be54cee97c30e54d10c78bc",
       "version_major": 2,
       "version_minor": 0
      },
      "text/plain": [
       "Generating embeddings:   0%|          | 0/1 [00:00<?, ?it/s]"
      ]
     },
     "metadata": {},
     "output_type": "display_data"
    },
    {
     "name": "stdout",
     "output_type": "stream",
     "text": [
      "Querying collection for top 5 results...\n",
      "Generating embedding for query: What was the change in Apple's inventory level from June 25, 2022, to April 1, 2023, as reported in ...\n",
      "Processing 1 texts in 1 batches...\n"
     ]
    },
    {
     "data": {
      "application/vnd.jupyter.widget-view+json": {
       "model_id": "b82f3afcd9444de99f83049aceaa2634",
       "version_major": 2,
       "version_minor": 0
      },
      "text/plain": [
       "Generating embeddings:   0%|          | 0/1 [00:00<?, ?it/s]"
      ]
     },
     "metadata": {},
     "output_type": "display_data"
    },
    {
     "name": "stdout",
     "output_type": "stream",
     "text": [
      "Querying collection for top 5 results...\n",
      "Generating embedding for query: What was the total revenue for Microsoft for the quarter ended March 31, 2023, as reported in their ...\n",
      "Processing 1 texts in 1 batches...\n"
     ]
    },
    {
     "data": {
      "application/vnd.jupyter.widget-view+json": {
       "model_id": "59cde20bdb204cab9e6a70c16f9f459b",
       "version_major": 2,
       "version_minor": 0
      },
      "text/plain": [
       "Generating embeddings:   0%|          | 0/1 [00:00<?, ?it/s]"
      ]
     },
     "metadata": {},
     "output_type": "display_data"
    },
    {
     "name": "stdout",
     "output_type": "stream",
     "text": [
      "Querying collection for top 5 results...\n",
      "Generating embedding for query: What was the amount of employee severance expenses recorded by Microsoft in the first quarter of fis...\n",
      "Processing 1 texts in 1 batches...\n"
     ]
    },
    {
     "data": {
      "application/vnd.jupyter.widget-view+json": {
       "model_id": "6b10fd62869a4e14a805a54e642b0e01",
       "version_major": 2,
       "version_minor": 0
      },
      "text/plain": [
       "Generating embeddings:   0%|          | 0/1 [00:00<?, ?it/s]"
      ]
     },
     "metadata": {},
     "output_type": "display_data"
    },
    {
     "name": "stdout",
     "output_type": "stream",
     "text": [
      "Querying collection for top 5 results...\n",
      "Generating embedding for query: What was Microsoft's Windows revenue for the quarter ended March 31, 2023, as reported in their Q2 2...\n",
      "Processing 1 texts in 1 batches...\n"
     ]
    },
    {
     "data": {
      "application/vnd.jupyter.widget-view+json": {
       "model_id": "0d2f50e1067d4c64a171719053639149",
       "version_major": 2,
       "version_minor": 0
      },
      "text/plain": [
       "Generating embeddings:   0%|          | 0/1 [00:00<?, ?it/s]"
      ]
     },
     "metadata": {},
     "output_type": "display_data"
    },
    {
     "name": "stdout",
     "output_type": "stream",
     "text": [
      "Querying collection for top 5 results...\n",
      "Generating embedding for query: What was Microsoft's Cloud Services revenue for the first quarter of fiscal year 2023, as reported i...\n",
      "Processing 1 texts in 1 batches...\n"
     ]
    },
    {
     "data": {
      "application/vnd.jupyter.widget-view+json": {
       "model_id": "6963d52e33524d62a7596fbe04a1bb69",
       "version_major": 2,
       "version_minor": 0
      },
      "text/plain": [
       "Generating embeddings:   0%|          | 0/1 [00:00<?, ?it/s]"
      ]
     },
     "metadata": {},
     "output_type": "display_data"
    },
    {
     "name": "stdout",
     "output_type": "stream",
     "text": [
      "Querying collection for top 5 results...\n",
      "Generating embedding for query: What was the net cash from operations for Microsoft for the three months ended September 30, 2023, a...\n",
      "Processing 1 texts in 1 batches...\n"
     ]
    },
    {
     "data": {
      "application/vnd.jupyter.widget-view+json": {
       "model_id": "74805cf54f144ff38a03fa4149be9042",
       "version_major": 2,
       "version_minor": 0
      },
      "text/plain": [
       "Generating embeddings:   0%|          | 0/1 [00:00<?, ?it/s]"
      ]
     },
     "metadata": {},
     "output_type": "display_data"
    },
    {
     "name": "stdout",
     "output_type": "stream",
     "text": [
      "Querying collection for top 5 results...\n",
      "Generating embedding for query: What was the percentage change in Microsoft's research and development spending from the quarter end...\n",
      "Processing 1 texts in 1 batches...\n"
     ]
    },
    {
     "data": {
      "application/vnd.jupyter.widget-view+json": {
       "model_id": "173b214933cd48c483eaa8be557b9194",
       "version_major": 2,
       "version_minor": 0
      },
      "text/plain": [
       "Generating embeddings:   0%|          | 0/1 [00:00<?, ?it/s]"
      ]
     },
     "metadata": {},
     "output_type": "display_data"
    },
    {
     "name": "stdout",
     "output_type": "stream",
     "text": [
      "Querying collection for top 5 results...\n",
      "Generating embedding for query: What was the cash amount received by Intel for the first phase of the divestiture of its NAND memory...\n",
      "Processing 1 texts in 1 batches...\n"
     ]
    },
    {
     "data": {
      "application/vnd.jupyter.widget-view+json": {
       "model_id": "414a9455d54c48669536e8a3226f9895",
       "version_major": 2,
       "version_minor": 0
      },
      "text/plain": [
       "Generating embeddings:   0%|          | 0/1 [00:00<?, ?it/s]"
      ]
     },
     "metadata": {},
     "output_type": "display_data"
    },
    {
     "name": "stdout",
     "output_type": "stream",
     "text": [
      "Querying collection for top 5 results...\n",
      "Generating embedding for query: What was the inventory level for Intel for the quarter ended June 30, 2023, as reported in their 202...\n",
      "Processing 1 texts in 1 batches...\n"
     ]
    },
    {
     "data": {
      "application/vnd.jupyter.widget-view+json": {
       "model_id": "b56b1b409305441bb749c04dcfac4a05",
       "version_major": 2,
       "version_minor": 0
      },
      "text/plain": [
       "Generating embeddings:   0%|          | 0/1 [00:00<?, ?it/s]"
      ]
     },
     "metadata": {},
     "output_type": "display_data"
    },
    {
     "name": "stdout",
     "output_type": "stream",
     "text": [
      "Querying collection for top 5 results...\n",
      "Generating embedding for query: How many specific geopolitical tensions were added to Intel's risk factors over the reporting period...\n",
      "Processing 1 texts in 1 batches...\n"
     ]
    },
    {
     "data": {
      "application/vnd.jupyter.widget-view+json": {
       "model_id": "ca124c50028c483bb97a5df2b342a938",
       "version_major": 2,
       "version_minor": 0
      },
      "text/plain": [
       "Generating embeddings:   0%|          | 0/1 [00:00<?, ?it/s]"
      ]
     },
     "metadata": {},
     "output_type": "display_data"
    },
    {
     "name": "stdout",
     "output_type": "stream",
     "text": [
      "Querying collection for top 5 results...\n",
      "Generating embedding for query: What was the total net sales for Amazon for the quarterly period ended June 30, 2023, as reported in...\n",
      "Processing 1 texts in 1 batches...\n"
     ]
    },
    {
     "data": {
      "application/vnd.jupyter.widget-view+json": {
       "model_id": "74e1f0b9adaa44b5b0362bcdd7928867",
       "version_major": 2,
       "version_minor": 0
      },
      "text/plain": [
       "Generating embeddings:   0%|          | 0/1 [00:00<?, ?it/s]"
      ]
     },
     "metadata": {},
     "output_type": "display_data"
    },
    {
     "name": "stdout",
     "output_type": "stream",
     "text": [
      "Querying collection for top 5 results...\n",
      "Generating embedding for query: What was the percentage change in Amazon's net sales from the quarter ended September 30, 2022, to t...\n",
      "Processing 1 texts in 1 batches...\n"
     ]
    },
    {
     "data": {
      "application/vnd.jupyter.widget-view+json": {
       "model_id": "5da0286373e1469d9ec8444c43712c4d",
       "version_major": 2,
       "version_minor": 0
      },
      "text/plain": [
       "Generating embeddings:   0%|          | 0/1 [00:00<?, ?it/s]"
      ]
     },
     "metadata": {},
     "output_type": "display_data"
    },
    {
     "name": "stdout",
     "output_type": "stream",
     "text": [
      "Querying collection for top 5 results...\n",
      "Generating embedding for query: What was the percentage increase in Amazon's net sales from online stores from the quarter ended Jun...\n",
      "Processing 1 texts in 1 batches...\n"
     ]
    },
    {
     "data": {
      "application/vnd.jupyter.widget-view+json": {
       "model_id": "7f07cf3008464a3aa506334876f07eec",
       "version_major": 2,
       "version_minor": 0
      },
      "text/plain": [
       "Generating embeddings:   0%|          | 0/1 [00:00<?, ?it/s]"
      ]
     },
     "metadata": {},
     "output_type": "display_data"
    },
    {
     "name": "stdout",
     "output_type": "stream",
     "text": [
      "Querying collection for top 5 results...\n",
      "Generating embedding for query: What was the AWS segment revenue for the three months ended March 31, 2023, as reported in Amazon's ...\n",
      "Processing 1 texts in 1 batches...\n"
     ]
    },
    {
     "data": {
      "application/vnd.jupyter.widget-view+json": {
       "model_id": "9400b8f004ea4514894aecca1a3fbc99",
       "version_major": 2,
       "version_minor": 0
      },
      "text/plain": [
       "Generating embeddings:   0%|          | 0/1 [00:00<?, ?it/s]"
      ]
     },
     "metadata": {},
     "output_type": "display_data"
    },
    {
     "name": "stdout",
     "output_type": "stream",
     "text": [
      "Querying collection for top 5 results...\n",
      "Generating embedding for query: What was the net cash used in investing activities for Amazon for the twelve months ended September ...\n",
      "Processing 1 texts in 1 batches...\n"
     ]
    },
    {
     "data": {
      "application/vnd.jupyter.widget-view+json": {
       "model_id": "0e7d400efd9e48dd83ca6dc6d58ca79a",
       "version_major": 2,
       "version_minor": 0
      },
      "text/plain": [
       "Generating embeddings:   0%|          | 0/1 [00:00<?, ?it/s]"
      ]
     },
     "metadata": {},
     "output_type": "display_data"
    },
    {
     "name": "stdout",
     "output_type": "stream",
     "text": [
      "Querying collection for top 5 results...\n",
      "Generating embedding for query: What was the percentage change in Amazon's R&D expenditure from the quarter ended June 30, 2023, to ...\n",
      "Processing 1 texts in 1 batches...\n"
     ]
    },
    {
     "data": {
      "application/vnd.jupyter.widget-view+json": {
       "model_id": "841470f1743140729f5f4057c374d5c0",
       "version_major": 2,
       "version_minor": 0
      },
      "text/plain": [
       "Generating embeddings:   0%|          | 0/1 [00:00<?, ?it/s]"
      ]
     },
     "metadata": {},
     "output_type": "display_data"
    },
    {
     "name": "stdout",
     "output_type": "stream",
     "text": [
      "Querying collection for top 5 results...\n",
      "Generating embedding for query: How many specific legal proceedings involving Amazon were mentioned in the 2022 Q3, 2023 Q1, 2023 Q2...\n",
      "Processing 1 texts in 1 batches...\n"
     ]
    },
    {
     "data": {
      "application/vnd.jupyter.widget-view+json": {
       "model_id": "38156f03ce6e4291a7cc147c8388597c",
       "version_major": 2,
       "version_minor": 0
      },
      "text/plain": [
       "Generating embeddings:   0%|          | 0/1 [00:00<?, ?it/s]"
      ]
     },
     "metadata": {},
     "output_type": "display_data"
    },
    {
     "name": "stdout",
     "output_type": "stream",
     "text": [
      "Querying collection for top 5 results...\n",
      "Generating embedding for query: How many shares did Amazon repurchase in the first quarter of 2022 under its repurchase program auth...\n",
      "Processing 1 texts in 1 batches...\n"
     ]
    },
    {
     "data": {
      "application/vnd.jupyter.widget-view+json": {
       "model_id": "806c2129b42b4c79a6a6490efe880d02",
       "version_major": 2,
       "version_minor": 0
      },
      "text/plain": [
       "Generating embeddings:   0%|          | 0/1 [00:00<?, ?it/s]"
      ]
     },
     "metadata": {},
     "output_type": "display_data"
    },
    {
     "name": "stdout",
     "output_type": "stream",
     "text": [
      "Querying collection for top 5 results...\n",
      "Generating embedding for query: What was the interest expense for Amazon for the three months ended June 30, 2023, as reported in th...\n",
      "Processing 1 texts in 1 batches...\n"
     ]
    },
    {
     "data": {
      "application/vnd.jupyter.widget-view+json": {
       "model_id": "60cb156ceda348539f4f301c937793a2",
       "version_major": 2,
       "version_minor": 0
      },
      "text/plain": [
       "Generating embeddings:   0%|          | 0/1 [00:00<?, ?it/s]"
      ]
     },
     "metadata": {},
     "output_type": "display_data"
    },
    {
     "name": "stdout",
     "output_type": "stream",
     "text": [
      "Querying collection for top 5 results...\n",
      "Evaluation complete. Results saved to evaluation_results/evaluation_results_20250131_092940.txt\n",
      "Detailed results saved to evaluation_results/evaluation_detailed_results_20250131_092940.csv\n",
      "\n",
      "Final Accuracy: 50.00%\n"
     ]
    }
   ],
   "source": [
    "# Evaluation code\n",
    "import datetime\n",
    "import os\n",
    "from pathlib import Path\n",
    "from dotenv import load_dotenv\n",
    "\n",
    "load_dotenv()\n",
    "\n",
    "# Create evaluation results directory if it doesn't exist\n",
    "eval_dir = Path(\"evaluation_results\")\n",
    "eval_dir.mkdir(exist_ok=True)\n",
    "\n",
    "# Create timestamp for unique filename\n",
    "timestamp = datetime.datetime.now().strftime(\"%Y%m%d_%H%M%S\")\n",
    "output_file = eval_dir / f\"evaluation_results_{timestamp}.txt\"\n",
    "\n",
    "# Load the CSV file\n",
    "df = pd.read_csv(\"../../data/sec-10-q/synthetic_qna_data_7_gpt4o_v2_mod1_50.csv\")\n",
    "\n",
    "# Initialize RAG system\n",
    "rag_system = RAGSystem(openai_api_key=os.environ[\"OPENAI_API_KEY\"])\n",
    "\n",
    "# Uncomment for first time loading of documents\n",
    "# rag_system.load_documents(docs_dir=Path(\"../../data/sec-10-q/docs\"))\n",
    "\n",
    "# Prepare results storage\n",
    "results_list = []\n",
    "correct = 0\n",
    "total = len(df)\n",
    "\n",
    "# Open file for writing results\n",
    "with open(output_file, 'w') as f:\n",
    "    # Write header information\n",
    "    f.write(\"SEC 10-Q RAG System Evaluation Results\\n\")\n",
    "    f.write(f\"Evaluation Date: {datetime.datetime.now().strftime('%Y-%m-%d %H:%M:%S')}\\n\")\n",
    "    f.write(f\"Total Questions: {total}\\n\")\n",
    "    f.write(\"=\" * 80 + \"\\n\\n\")\n",
    "    \n",
    "    # Evaluate each question\n",
    "    for i, row in tqdm(df.iterrows(), total=total, desc=\"Evaluating questions\"):\n",
    "        question = row[\"New Question\"]\n",
    "        expected_answer = row[\"New Answer\"]\n",
    "        \n",
    "        # Get model response\n",
    "        query_results = rag_system.db_manager.query(question, rag_system.embedder, n_results=5)\n",
    "        context = \"\\n\\n\".join([\n",
    "            f\"[From {meta['filename']}]:\\n{doc}\"\n",
    "            for doc, meta in zip(query_results['documents'][0], query_results['metadatas'][0])\n",
    "        ])\n",
    "        # f.write(f\"Context:\\n{context}\\n\")\n",
    "        model_response = rag_system.generate_answer(question, context)\n",
    "        try:\n",
    "            model_response = float(model_response)\n",
    "            is_correct = float(model_response) == float(expected_answer)\n",
    "        except ValueError:\n",
    "            model_response = \"N/A (ValueError)\"\n",
    "            is_correct = False\n",
    "        except Exception as e:\n",
    "            model_response = f\"N/A ({str(e)})\"\n",
    "            is_correct = False\n",
    "\n",
    "        if is_correct:\n",
    "            correct += 1\n",
    "        \n",
    "        # Write question details\n",
    "        f.write(f\"Question {i+1}/{total}:\\n\")\n",
    "        f.write(f\"Question: {question}\\n\")\n",
    "        f.write(f\"Expected Answer: {expected_answer}\\n\")\n",
    "        f.write(f\"Model Response: {model_response}\\n\")\n",
    "        f.write(f\"Correct: {is_correct}\\n\")\n",
    "        f.write(\"-\" * 80 + \"\\n\\n\")\n",
    "        \n",
    "        # Store result for summary\n",
    "        results_list.append({\n",
    "            'question_id': i+1,\n",
    "            'question': question,\n",
    "            'context': context,\n",
    "            'expected': expected_answer,\n",
    "            'response': model_response,\n",
    "            'correct': is_correct\n",
    "        })\n",
    "        # break;\n",
    "    \n",
    "    # Calculate and write summary statistics\n",
    "    accuracy = correct / total\n",
    "    f.write(\"\\nEvaluation Summary\\n\")\n",
    "    f.write(\"=\" * 80 + \"\\n\")\n",
    "    f.write(f\"Total Questions: {total}\\n\")\n",
    "    f.write(f\"Correct Answers: {correct}\\n\")\n",
    "    f.write(f\"Accuracy: {accuracy:.2%}\\n\")\n",
    "\n",
    "# Create results DataFrame and save to CSV\n",
    "results_df = pd.DataFrame(results_list)\n",
    "results_df.to_csv(eval_dir / f\"evaluation_detailed_results_{timestamp}.csv\", index=False)\n",
    "\n",
    "print(f\"Evaluation complete. Results saved to {output_file}\")\n",
    "print(f\"Detailed results saved to {eval_dir}/evaluation_detailed_results_{timestamp}.csv\")\n",
    "print(f\"\\nFinal Accuracy: {accuracy:.2%}\")"
   ]
  }
 ],
 "metadata": {
  "kernelspec": {
   "display_name": ".venv",
   "language": "python",
   "name": "python3"
  },
  "language_info": {
   "codemirror_mode": {
    "name": "ipython",
    "version": 3
   },
   "file_extension": ".py",
   "mimetype": "text/x-python",
   "name": "python",
   "nbconvert_exporter": "python",
   "pygments_lexer": "ipython3",
   "version": "3.11.0rc1"
  }
 },
 "nbformat": 4,
 "nbformat_minor": 2
}
